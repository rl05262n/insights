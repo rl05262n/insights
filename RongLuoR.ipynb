{
 "cells": [
  {
   "cell_type": "markdown",
   "id": "686124cc",
   "metadata": {},
   "source": [
    "# Running regressions and formatting with stargazer in R"
   ]
  },
  {
   "cell_type": "markdown",
   "id": "83626fec",
   "metadata": {},
   "source": [
    "# The setup:"
   ]
  },
  {
   "cell_type": "code",
   "execution_count": 1,
   "id": "d1cda8a3",
   "metadata": {},
   "outputs": [
    {
     "name": "stderr",
     "output_type": "stream",
     "text": [
      "Warning message:\n",
      "\"package 'tidyverse' was built under R version 3.6.3\""
     ]
    },
    {
     "ename": "ERROR",
     "evalue": "Error: package or namespace load failed for 'tidyverse' in loadNamespace(j <- i[[1L]], c(lib.loc, .libPaths()), versionCheck = vI[[j]]):\n there is no package called 'reprex'\n",
     "output_type": "error",
     "traceback": [
      "Error: package or namespace load failed for 'tidyverse' in loadNamespace(j <- i[[1L]], c(lib.loc, .libPaths()), versionCheck = vI[[j]]):\n there is no package called 'reprex'\nTraceback:\n",
      "1. library(tidyverse)",
      "2. tryCatch({\n .     attr(package, \"LibPath\") <- which.lib.loc\n .     ns <- loadNamespace(package, lib.loc)\n .     env <- attachNamespace(ns, pos = pos, deps, exclude, include.only)\n . }, error = function(e) {\n .     P <- if (!is.null(cc <- conditionCall(e))) \n .         paste(\" in\", deparse(cc)[1L])\n .     else \"\"\n .     msg <- gettextf(\"package or namespace load failed for %s%s:\\n %s\", \n .         sQuote(package), P, conditionMessage(e))\n .     if (logical.return) \n .         message(paste(\"Error:\", msg), domain = NA)\n .     else stop(msg, call. = FALSE, domain = NA)\n . })",
      "3. tryCatchList(expr, classes, parentenv, handlers)",
      "4. tryCatchOne(expr, names, parentenv, handlers[[1L]])",
      "5. value[[3L]](cond)",
      "6. stop(msg, call. = FALSE, domain = NA)"
     ]
    }
   ],
   "source": [
    "library(tidyverse)  #package needed to run the commands after installation of tidyverse "
   ]
  },
  {
   "cell_type": "code",
   "execution_count": 2,
   "id": "f8f26806",
   "metadata": {},
   "outputs": [
    {
     "data": {
      "text/html": [
       "<table>\n",
       "<thead><tr><th scope=col>X</th><th scope=col>Unnamed..0</th><th scope=col>player</th><th scope=col>rank</th><th scope=col>wins</th><th scope=col>rating</th><th scope=col>link</th><th scope=col>Urls</th><th scope=col>Damaged.rounds</th><th scope=col>killToDeath.ratio</th><th scope=col>headshot..</th><th scope=col>win..</th><th scope=col>rating.wins</th></tr></thead>\n",
       "<tbody>\n",
       "\t<tr><td> 0                                                                 </td><td> 0                                                                 </td><td>TSM FTX WARDELL                                                    </td><td> 1                                                                 </td><td>128                                                                </td><td>1257                                                               </td><td>/valorant/profile/riot/TSM%20FTX%20WARDELL%238266                  </td><td>https://tracker.gg/valorant/profile/riot/TSM%20FTX%20WARDELL%238266</td><td>171.2                                                              </td><td>1.44                                                               </td><td>0.23                                                               </td><td>0.57                                                               </td><td> 9.820312                                                          </td></tr>\n",
       "\t<tr><td> 1                                                                 </td><td> 1                                                                 </td><td>SoaR Cryo                                                          </td><td> 2                                                                 </td><td>139                                                                </td><td>1242                                                               </td><td>/valorant/profile/riot/SoaR%20Cryo%23Sadge                         </td><td>https://tracker.gg/valorant/profile/riot/SoaR%20Cryo%23Sadge       </td><td>172.4                                                              </td><td>1.32                                                               </td><td>0.29                                                               </td><td>0.66                                                               </td><td> 8.935252                                                          </td></tr>\n",
       "\t<tr><td> 2                                                                 </td><td> 2                                                                 </td><td>TSM FTX bang                                                       </td><td> 3                                                                 </td><td>150                                                                </td><td>1183                                                               </td><td>/valorant/profile/riot/TSM%20FTX%20bang%230000                     </td><td>https://tracker.gg/valorant/profile/riot/TSM%20FTX%20bang%230000   </td><td>156.5                                                              </td><td>1.17                                                               </td><td>0.39                                                               </td><td>0.54                                                               </td><td> 7.886667                                                          </td></tr>\n",
       "\t<tr><td> 3                                                                 </td><td> 3                                                                 </td><td>SoaR zander                                                        </td><td> 4                                                                 </td><td>133                                                                </td><td>1124                                                               </td><td>/valorant/profile/riot/SoaR%20zander%23swagy                       </td><td>https://tracker.gg/valorant/profile/riot/SoaR%20zander%23swagy     </td><td>151.1                                                              </td><td>1.24                                                               </td><td>0.28                                                               </td><td>0.67                                                               </td><td> 8.451128                                                          </td></tr>\n",
       "\t<tr><td> 4                                                                 </td><td> 4                                                                 </td><td>100T Asuna                                                         </td><td> 5                                                                 </td><td>111                                                                </td><td>1120                                                               </td><td>/valorant/profile/riot/100T%20Asuna%231111                         </td><td>https://tracker.gg/valorant/profile/riot/100T%20Asuna%231111       </td><td>167.3                                                              </td><td>1.19                                                               </td><td>0.26                                                               </td><td>0.58                                                               </td><td>10.090090                                                          </td></tr>\n",
       "\t<tr><td> 5                                                                 </td><td> 5                                                                 </td><td>COL brawk                                                          </td><td> 6                                                                 </td><td> 88                                                                </td><td>1109                                                               </td><td>/valorant/profile/riot/COL%20brawk%23420                           </td><td>https://tracker.gg/valorant/profile/riot/COL%20brawk%23420         </td><td>148.3                                                              </td><td>1.01                                                               </td><td>0.27                                                               </td><td>0.50                                                               </td><td>12.602273                                                          </td></tr>\n",
       "\t<tr><td> 6                                                                 </td><td> 6                                                                 </td><td>GUARD JonahP                                                       </td><td> 7                                                                 </td><td>143                                                                </td><td>1098                                                               </td><td>/valorant/profile/riot/GUARD%20JonahP%23ttv                        </td><td>https://tracker.gg/valorant/profile/riot/GUARD%20JonahP%23ttv      </td><td>160.1                                                              </td><td>1.18                                                               </td><td>0.29                                                               </td><td>0.63                                                               </td><td> 7.678322                                                          </td></tr>\n",
       "\t<tr><td> 7                                                                 </td><td> 7                                                                 </td><td>T1 JAWGEMO                                                         </td><td> 8                                                                 </td><td>133                                                                </td><td>1050                                                               </td><td>/valorant/profile/riot/T1%20JAWGEMO%23MOR                          </td><td>https://tracker.gg/valorant/profile/riot/T1%20JAWGEMO%23MOR        </td><td>161.2                                                              </td><td>1.13                                                               </td><td>0.24                                                               </td><td>0.54                                                               </td><td> 7.894737                                                          </td></tr>\n",
       "\t<tr><td> 8                                                                 </td><td> 8                                                                 </td><td>T1 curry                                                           </td><td> 9                                                                 </td><td>142                                                                </td><td>1040                                                               </td><td>/valorant/profile/riot/T1%20curry%230000                           </td><td>https://tracker.gg/valorant/profile/riot/T1%20curry%230000         </td><td>158.6                                                              </td><td>1.20                                                               </td><td>0.28                                                               </td><td>0.56                                                               </td><td> 7.323944                                                          </td></tr>\n",
       "\t<tr><td> 9                                                                 </td><td> 9                                                                 </td><td>SEN sinatraa                                                       </td><td>10                                                                 </td><td>104                                                                </td><td>1025                                                               </td><td>/valorant/profile/riot/SEN%20sinatraa%23idc                        </td><td>https://tracker.gg/valorant/profile/riot/SEN%20sinatraa%23idc      </td><td>163.8                                                              </td><td>1.13                                                               </td><td>0.18                                                               </td><td>0.56                                                               </td><td> 9.855769                                                          </td></tr>\n",
       "\t<tr><td>10                                                                 </td><td>10                                                                 </td><td>NRG hazed                                                          </td><td>11                                                                 </td><td>132                                                                </td><td>1015                                                               </td><td>/valorant/profile/riot/NRG%20hazed%23NRG                           </td><td>https://tracker.gg/valorant/profile/riot/NRG%20hazed%23NRG         </td><td>139.4                                                              </td><td>1.07                                                               </td><td>0.30                                                               </td><td>0.56                                                               </td><td> 7.689394                                                          </td></tr>\n",
       "\t<tr><td>11                                                                 </td><td>11                                                                 </td><td>SEN SicK                                                           </td><td>12                                                                 </td><td>120                                                                </td><td>1011                                                               </td><td>/valorant/profile/riot/SEN%20SicK%23xDDDD                          </td><td>https://tracker.gg/valorant/profile/riot/SEN%20SicK%23xDDDD        </td><td>180.9                                                              </td><td>1.34                                                               </td><td>0.27                                                               </td><td>0.60                                                               </td><td> 8.425000                                                          </td></tr>\n",
       "\t<tr><td>12                                                                 </td><td>12                                                                 </td><td>Lear                                                               </td><td>13                                                                 </td><td> 97                                                                </td><td>1010                                                               </td><td>/valorant/profile/riot/Lear%23anna                                 </td><td>https://tracker.gg/valorant/profile/riot/Lear%23anna               </td><td>147.7                                                              </td><td>1.12                                                               </td><td>0.27                                                               </td><td>0.56                                                               </td><td>10.412371                                                          </td></tr>\n",
       "\t<tr><td>13                                                                 </td><td>13                                                                 </td><td>NRG s0m                                                            </td><td>14                                                                 </td><td>202                                                                </td><td>1002                                                               </td><td>/valorant/profile/riot/NRG%20s0m%23NRG                             </td><td>https://tracker.gg/valorant/profile/riot/NRG%20s0m%23NRG           </td><td>160.4                                                              </td><td>1.21                                                               </td><td>0.31                                                               </td><td>0.54                                                               </td><td> 4.960396                                                          </td></tr>\n",
       "\t<tr><td>14                                                                 </td><td>14                                                                 </td><td>zt0L                                                               </td><td>15                                                                 </td><td>120                                                                </td><td> 997                                                               </td><td>/valorant/profile/riot/zt0L%23TTV                                  </td><td>https://tracker.gg/valorant/profile/riot/zt0L%23TTV                </td><td>145.0                                                              </td><td>1.13                                                               </td><td>0.20                                                               </td><td>0.54                                                               </td><td> 8.308333                                                          </td></tr>\n",
       "\t<tr><td>15                                                                 </td><td>15                                                                 </td><td>NRG tex                                                            </td><td>16                                                                 </td><td>112                                                                </td><td> 994                                                               </td><td>/valorant/profile/riot/NRG%20tex%23x1mob                           </td><td>https://tracker.gg/valorant/profile/riot/NRG%20tex%23x1mob         </td><td>162.7                                                              </td><td>1.20                                                               </td><td>0.34                                                               </td><td>0.60                                                               </td><td> 8.875000                                                          </td></tr>\n",
       "\t<tr><td>16                                                                 </td><td>16                                                                 </td><td>GUARD valyn                                                        </td><td>17                                                                 </td><td>107                                                                </td><td> 987                                                               </td><td>/valorant/profile/riot/GUARD%20valyn%23000                         </td><td>https://tracker.gg/valorant/profile/riot/GUARD%20valyn%23000       </td><td>  0.0                                                              </td><td>1.51                                                               </td><td>0.00                                                               </td><td>0.30                                                               </td><td> 9.224299                                                          </td></tr>\n",
       "\t<tr><td>17                                                                 </td><td>17                                                                 </td><td>V1 Zellsis                                                         </td><td>18                                                                 </td><td> 71                                                                </td><td> 975                                                               </td><td>/valorant/profile/riot/V1%20Zellsis%231240                         </td><td>https://tracker.gg/valorant/profile/riot/V1%20Zellsis%231240       </td><td>151.6                                                              </td><td>1.14                                                               </td><td>0.23                                                               </td><td>0.58                                                               </td><td>13.732394                                                          </td></tr>\n",
       "\t<tr><td>18                                                                 </td><td>18                                                                 </td><td>JASONR24                                                           </td><td>19                                                                 </td><td>249                                                                </td><td> 971                                                               </td><td>/valorant/profile/riot/JASONR24%239498                             </td><td>https://tracker.gg/valorant/profile/riot/JASONR24%239498           </td><td>142.2                                                              </td><td>1.03                                                               </td><td>0.24                                                               </td><td>0.51                                                               </td><td> 3.899598                                                          </td></tr>\n",
       "\t<tr><td>19                                                                 </td><td>19                                                                 </td><td>bearkun                                                            </td><td>20                                                                 </td><td>176                                                                </td><td> 956                                                               </td><td>/valorant/profile/riot/bearkun%23lily                              </td><td>https://tracker.gg/valorant/profile/riot/bearkun%23lily            </td><td>137.1                                                              </td><td>1.00                                                               </td><td>0.20                                                               </td><td>0.45                                                               </td><td> 5.431818                                                          </td></tr>\n",
       "\t<tr><td>20                                                                 </td><td>20                                                                 </td><td>two tone                                                           </td><td>21                                                                 </td><td> 79                                                                </td><td> 951                                                               </td><td>/valorant/profile/riot/two%20tone%2342p                            </td><td>https://tracker.gg/valorant/profile/riot/two%20tone%2342p          </td><td>154.3                                                              </td><td>1.13                                                               </td><td>0.25                                                               </td><td>0.53                                                               </td><td>12.037975                                                          </td></tr>\n",
       "\t<tr><td>21                                                                 </td><td>21                                                                 </td><td>XSET BcJ                                                           </td><td>22                                                                 </td><td>121                                                                </td><td> 951                                                               </td><td>/valorant/profile/riot/XSET%20BcJ%235FT2                           </td><td>https://tracker.gg/valorant/profile/riot/XSET%20BcJ%235FT2         </td><td>154.5                                                              </td><td>1.26                                                               </td><td>0.21                                                               </td><td>0.52                                                               </td><td> 7.859504                                                          </td></tr>\n",
       "\t<tr><td>22                                                                 </td><td>22                                                                 </td><td>NRG ANDROID                                                        </td><td>23                                                                 </td><td>115                                                                </td><td> 943                                                               </td><td>/valorant/profile/riot/NRG%20ANDROID%23NRG                         </td><td>https://tracker.gg/valorant/profile/riot/NRG%20ANDROID%23NRG       </td><td>157.7                                                              </td><td>1.31                                                               </td><td>0.34                                                               </td><td>0.59                                                               </td><td> 8.200000                                                          </td></tr>\n",
       "\t<tr><td>23                                                                 </td><td>23                                                                 </td><td>nillyaz                                                            </td><td>24                                                                 </td><td> 85                                                                </td><td> 926                                                               </td><td>/valorant/profile/riot/nillyaz%23sosa                              </td><td>https://tracker.gg/valorant/profile/riot/nillyaz%23sosa            </td><td>131.9                                                              </td><td>0.97                                                               </td><td>0.27                                                               </td><td>0.49                                                               </td><td>10.894118                                                          </td></tr>\n",
       "\t<tr><td>24                                                                 </td><td>24                                                                 </td><td>GHOST koalanoob                                                    </td><td>25                                                                 </td><td>164                                                                </td><td> 925                                                               </td><td>/valorant/profile/riot/GHOST%20koalanoob%23audry                   </td><td>https://tracker.gg/valorant/profile/riot/GHOST%20koalanoob%23audry </td><td>167.7                                                              </td><td>1.24                                                               </td><td>0.27                                                               </td><td>0.50                                                               </td><td> 5.640244                                                          </td></tr>\n",
       "\t<tr><td>25                                                                 </td><td>25                                                                 </td><td>OXG Reduxx                                                         </td><td>26                                                                 </td><td>103                                                                </td><td> 922                                                               </td><td>/valorant/profile/riot/OXG%20Reduxx%23sara                         </td><td>https://tracker.gg/valorant/profile/riot/OXG%20Reduxx%23sara       </td><td>172.7                                                              </td><td>1.21                                                               </td><td>0.28                                                               </td><td>0.55                                                               </td><td> 8.951456                                                          </td></tr>\n",
       "\t<tr><td>26                                                                 </td><td>26                                                                 </td><td>Habib                                                              </td><td>27                                                                 </td><td> 97                                                                </td><td> 920                                                               </td><td>/valorant/profile/riot/Habib%231234                                </td><td>https://tracker.gg/valorant/profile/riot/Habib%231234              </td><td>151.0                                                              </td><td>1.10                                                               </td><td>0.31                                                               </td><td>0.56                                                               </td><td> 9.484536                                                          </td></tr>\n",
       "\t<tr><td>27                                                                 </td><td>27                                                                 </td><td>geeza                                                              </td><td>28                                                                 </td><td>151                                                                </td><td> 919                                                               </td><td>/valorant/profile/riot/geeza%23POG                                 </td><td>https://tracker.gg/valorant/profile/riot/geeza%23POG               </td><td>154.7                                                              </td><td>1.12                                                               </td><td>0.36                                                               </td><td>0.45                                                               </td><td> 6.086093                                                          </td></tr>\n",
       "\t<tr><td>28                                                                 </td><td>28                                                                 </td><td>NV Victor                                                          </td><td>29                                                                 </td><td> 65                                                                </td><td> 911                                                               </td><td>/valorant/profile/riot/NV%20Victor%23777                           </td><td>https://tracker.gg/valorant/profile/riot/NV%20Victor%23777         </td><td>159.9                                                              </td><td>1.07                                                               </td><td>0.29                                                               </td><td>0.51                                                               </td><td>14.015385                                                          </td></tr>\n",
       "\t<tr><td>29                                                                 </td><td>29                                                                 </td><td>BM Light                                                           </td><td>30                                                                 </td><td>116                                                                </td><td> 907                                                               </td><td>/valorant/profile/riot/BM%20Light%23Sadge                          </td><td>https://tracker.gg/valorant/profile/riot/BM%20Light%23Sadge        </td><td>150.8                                                              </td><td>1.16                                                               </td><td>0.29                                                               </td><td>0.52                                                               </td><td> 7.818966                                                          </td></tr>\n",
       "\t<tr><td>...</td><td>...</td><td>...</td><td>...</td><td>...</td><td>...</td><td>...</td><td>...</td><td>...</td><td>...</td><td>...</td><td>...</td><td>...</td></tr>\n",
       "\t<tr><td>270                                                                </td><td>270                                                                </td><td>Bxdied                                                             </td><td>282                                                                </td><td> 91                                                                </td><td>626                                                                </td><td>/valorant/profile/riot/Bxdied%23Bod                                </td><td>https://tracker.gg/valorant/profile/riot/Bxdied%23Bod              </td><td>245.9                                                              </td><td>1.39                                                               </td><td>0.33                                                               </td><td>0.00                                                               </td><td> 6.879121                                                          </td></tr>\n",
       "\t<tr><td>271                                                                </td><td>271                                                                </td><td>EG BRANTED                                                         </td><td>283                                                                </td><td> 92                                                                </td><td>625                                                                </td><td>/valorant/profile/riot/EG%20BRANTED%23EVIL                         </td><td>https://tracker.gg/valorant/profile/riot/EG%20BRANTED%23EVIL       </td><td>127.1                                                              </td><td>0.92                                                               </td><td>0.31                                                               </td><td>0.51                                                               </td><td> 6.793478                                                          </td></tr>\n",
       "\t<tr><td>272                                                                </td><td>272                                                                </td><td>snxper                                                             </td><td>284                                                                </td><td>114                                                                </td><td>625                                                                </td><td>/valorant/profile/riot/snxper%23OTF                                </td><td>https://tracker.gg/valorant/profile/riot/snxper%23OTF              </td><td>150.5                                                              </td><td>1.09                                                               </td><td>0.34                                                               </td><td>0.53                                                               </td><td> 5.482456                                                          </td></tr>\n",
       "\t<tr><td>273                                                                </td><td>273                                                                </td><td>bouphapete                                                         </td><td>285                                                                </td><td> 90                                                                </td><td>625                                                                </td><td>/valorant/profile/riot/bouphapete%23NA1                            </td><td>https://tracker.gg/valorant/profile/riot/bouphapete%23NA1          </td><td>149.3                                                              </td><td>1.05                                                               </td><td>0.24                                                               </td><td>0.46                                                               </td><td> 6.944444                                                          </td></tr>\n",
       "\t<tr><td>274                                                                </td><td>274                                                                </td><td>BigBootyJudy                                                       </td><td>286                                                                </td><td> 80                                                                </td><td>625                                                                </td><td>/valorant/profile/riot/BigBootyJudy%23Here                         </td><td>https://tracker.gg/valorant/profile/riot/BigBootyJudy%23Here       </td><td>164.1                                                              </td><td>1.34                                                               </td><td>0.29                                                               </td><td>0.65                                                               </td><td> 7.812500                                                          </td></tr>\n",
       "\t<tr><td>275                                                                </td><td>275                                                                </td><td>AKREW Paincakes                                                    </td><td>287                                                                </td><td>157                                                                </td><td>624                                                                </td><td>/valorant/profile/riot/AKREW%20Paincakes%231738                    </td><td>https://tracker.gg/valorant/profile/riot/AKREW%20Paincakes%231738  </td><td>153.6                                                              </td><td>1.10                                                               </td><td>0.28                                                               </td><td>0.45                                                               </td><td> 3.974522                                                          </td></tr>\n",
       "\t<tr><td>276                                                                </td><td>276                                                                </td><td>Shadow                                                             </td><td>288                                                                </td><td>109                                                                </td><td>624                                                                </td><td>/valorant/profile/riot/Shadow%235152                               </td><td>https://tracker.gg/valorant/profile/riot/Shadow%235152             </td><td>126.1                                                              </td><td>0.96                                                               </td><td>0.27                                                               </td><td>0.50                                                               </td><td> 5.724771                                                          </td></tr>\n",
       "\t<tr><td>277                                                                </td><td>277                                                                </td><td>HighFlip                                                           </td><td>289                                                                </td><td> 91                                                                </td><td>624                                                                </td><td>/valorant/profile/riot/HighFlip%23Flip                             </td><td>https://tracker.gg/valorant/profile/riot/HighFlip%23Flip           </td><td>  0.0                                                              </td><td>1.81                                                               </td><td>0.00                                                               </td><td>0.57                                                               </td><td> 6.857143                                                          </td></tr>\n",
       "\t<tr><td>278                                                                </td><td>278                                                                </td><td>Jawmez                                                             </td><td>290                                                                </td><td>165                                                                </td><td>624                                                                </td><td>/valorant/profile/riot/Jawmez%231337                               </td><td>https://tracker.gg/valorant/profile/riot/Jawmez%231337             </td><td>153.9                                                              </td><td>1.16                                                               </td><td>0.32                                                               </td><td>0.43                                                               </td><td> 3.781818                                                          </td></tr>\n",
       "\t<tr><td>279                                                                </td><td>279                                                                </td><td>HIMACOPTER                                                         </td><td>291                                                                </td><td> 48                                                                </td><td>623                                                                </td><td>/valorant/profile/riot/HIMACOPTER%23ZZZ                            </td><td>https://tracker.gg/valorant/profile/riot/HIMACOPTER%23ZZZ          </td><td>134.7                                                              </td><td>0.93                                                               </td><td>0.21                                                               </td><td>0.44                                                               </td><td>12.979167                                                          </td></tr>\n",
       "\t<tr><td>280                                                                </td><td>280                                                                </td><td>Able chicago                                                       </td><td>293                                                                </td><td> 61                                                                </td><td>623                                                                </td><td>/valorant/profile/riot/Able%20chicago%23007                        </td><td>https://tracker.gg/valorant/profile/riot/Able%20chicago%23007      </td><td>156.0                                                              </td><td>1.12                                                               </td><td>0.29                                                               </td><td>0.46                                                               </td><td>10.213115                                                          </td></tr>\n",
       "\t<tr><td>281                                                                </td><td>281                                                                </td><td>HaanzeR                                                            </td><td>295                                                                </td><td>166                                                                </td><td>623                                                                </td><td>/valorant/profile/riot/HaanzeR%23manda                             </td><td>https://tracker.gg/valorant/profile/riot/HaanzeR%23manda           </td><td>140.1                                                              </td><td>0.96                                                               </td><td>0.25                                                               </td><td>0.49                                                               </td><td> 3.753012                                                          </td></tr>\n",
       "\t<tr><td>282                                                                </td><td>282                                                                </td><td>Nara                                                               </td><td>296                                                                </td><td> 68                                                                </td><td>623                                                                </td><td>/valorant/profile/riot/Nara%23604                                  </td><td>https://tracker.gg/valorant/profile/riot/Nara%23604                </td><td>133.0                                                              </td><td>1.00                                                               </td><td>0.27                                                               </td><td>0.52                                                               </td><td> 9.161765                                                          </td></tr>\n",
       "\t<tr><td>283                                                                </td><td>283                                                                </td><td>noli                                                               </td><td>297                                                                </td><td> 60                                                                </td><td>622                                                                </td><td>/valorant/profile/riot/noli%23liinz                                </td><td>https://tracker.gg/valorant/profile/riot/noli%23liinz              </td><td>154.5                                                              </td><td>1.17                                                               </td><td>0.30                                                               </td><td>0.53                                                               </td><td>10.366667                                                          </td></tr>\n",
       "\t<tr><td>284                                                                </td><td>284                                                                </td><td>BigPoppak                                                          </td><td>298                                                                </td><td>154                                                                </td><td>622                                                                </td><td>/valorant/profile/riot/BigPoppak%23dznut                           </td><td>https://tracker.gg/valorant/profile/riot/BigPoppak%23dznut         </td><td>151.3                                                              </td><td>1.03                                                               </td><td>0.29                                                               </td><td>0.49                                                               </td><td> 4.038961                                                          </td></tr>\n",
       "\t<tr><td>285                                                                </td><td>285                                                                </td><td>cutefatboy                                                         </td><td>299                                                                </td><td>171                                                                </td><td>621                                                                </td><td>/valorant/profile/riot/cutefatboy%23frick                          </td><td>https://tracker.gg/valorant/profile/riot/cutefatboy%23frick        </td><td>141.3                                                              </td><td>1.05                                                               </td><td>0.31                                                               </td><td>0.48                                                               </td><td> 3.631579                                                          </td></tr>\n",
       "\t<tr><td>286                                                                </td><td>286                                                                </td><td>ACE                                                                </td><td>300                                                                </td><td>117                                                                </td><td>620                                                                </td><td>/valorant/profile/riot/ACE%233131                                  </td><td>https://tracker.gg/valorant/profile/riot/ACE%233131                </td><td>144.3                                                              </td><td>1.01                                                               </td><td>0.25                                                               </td><td>0.49                                                               </td><td> 5.299145                                                          </td></tr>\n",
       "\t<tr><td>287                                                                </td><td>287                                                                </td><td>GenG gMd                                                           </td><td>301                                                                </td><td> 71                                                                </td><td>619                                                                </td><td>/valorant/profile/riot/GenG%20gMd%231337                           </td><td>https://tracker.gg/valorant/profile/riot/GenG%20gMd%231337         </td><td>153.3                                                              </td><td>1.08                                                               </td><td>0.29                                                               </td><td>0.49                                                               </td><td> 8.718310                                                          </td></tr>\n",
       "\t<tr><td>288                                                                </td><td>288                                                                </td><td>bork                                                               </td><td>302                                                                </td><td>138                                                                </td><td>619                                                                </td><td>/valorant/profile/riot/bork%23QwQ                                  </td><td>https://tracker.gg/valorant/profile/riot/bork%23QwQ                </td><td>142.1                                                              </td><td>1.10                                                               </td><td>0.25                                                               </td><td>0.52                                                               </td><td> 4.485507                                                          </td></tr>\n",
       "\t<tr><td>289                                                                </td><td>289                                                                </td><td>smallest borther                                                   </td><td>303                                                                </td><td> 73                                                                </td><td>618                                                                </td><td>/valorant/profile/riot/smallest%20borther%23burgr                  </td><td>https://tracker.gg/valorant/profile/riot/smallest%20borther%23burgr</td><td>154.9                                                              </td><td>1.11                                                               </td><td>0.24                                                               </td><td>0.56                                                               </td><td> 8.465753                                                          </td></tr>\n",
       "\t<tr><td>290                                                                </td><td>290                                                                </td><td>BERE                                                               </td><td>304                                                                </td><td> 70                                                                </td><td>617                                                                </td><td>/valorant/profile/riot/BERE%23tiff                                 </td><td>https://tracker.gg/valorant/profile/riot/BERE%23tiff               </td><td>139.9                                                              </td><td>1.01                                                               </td><td>0.34                                                               </td><td>0.42                                                               </td><td> 8.814286                                                          </td></tr>\n",
       "\t<tr><td>291                                                                </td><td>291                                                                </td><td>Nite                                                               </td><td>305                                                                </td><td> 48                                                                </td><td>617                                                                </td><td>/valorant/profile/riot/Nite%23King                                 </td><td>https://tracker.gg/valorant/profile/riot/Nite%23King               </td><td>143.7                                                              </td><td>1.05                                                               </td><td>0.20                                                               </td><td>0.46                                                               </td><td>12.854167                                                          </td></tr>\n",
       "\t<tr><td>292                                                                </td><td>292                                                                </td><td>k0rean                                                             </td><td>306                                                                </td><td>241                                                                </td><td>617                                                                </td><td>/valorant/profile/riot/k0rean%23JETT                               </td><td>https://tracker.gg/valorant/profile/riot/k0rean%23JETT             </td><td>144.7                                                              </td><td>1.03                                                               </td><td>0.16                                                               </td><td>0.47                                                               </td><td> 2.560166                                                          </td></tr>\n",
       "\t<tr><td>293                                                                </td><td>293                                                                </td><td>furbsa                                                             </td><td>307                                                                </td><td>161                                                                </td><td>617                                                                </td><td>/valorant/profile/riot/furbsa%23wnl                                </td><td>https://tracker.gg/valorant/profile/riot/furbsa%23wnl              </td><td>156.3                                                              </td><td>1.11                                                               </td><td>0.34                                                               </td><td>0.49                                                               </td><td> 3.832298                                                          </td></tr>\n",
       "\t<tr><td>294                                                                </td><td>294                                                                </td><td>bew                                                                </td><td>308                                                                </td><td>133                                                                </td><td>617                                                                </td><td>/valorant/profile/riot/bew%23666                                   </td><td>https://tracker.gg/valorant/profile/riot/bew%23666                 </td><td>156.8                                                              </td><td>1.26                                                               </td><td>0.30                                                               </td><td>0.70                                                               </td><td> 4.639098                                                          </td></tr>\n",
       "\t<tr><td>295                                                                </td><td>295                                                                </td><td>Apoth                                                              </td><td>309                                                                </td><td> 57                                                                </td><td>616                                                                </td><td>/valorant/profile/riot/Apoth%23DOG                                 </td><td>https://tracker.gg/valorant/profile/riot/Apoth%23DOG               </td><td>149.2                                                              </td><td>1.13                                                               </td><td>0.34                                                               </td><td>0.55                                                               </td><td>10.807018                                                          </td></tr>\n",
       "\t<tr><td>296                                                                </td><td>296                                                                </td><td>DZ ScrewFace                                                       </td><td>310                                                                </td><td> 91                                                                </td><td>616                                                                </td><td>/valorant/profile/riot/DZ%20ScrewFace%23MEOW                       </td><td>https://tracker.gg/valorant/profile/riot/DZ%20ScrewFace%23MEOW     </td><td>145.9                                                              </td><td>1.03                                                               </td><td>0.23                                                               </td><td>0.47                                                               </td><td> 6.769231                                                          </td></tr>\n",
       "\t<tr><td>297                                                                </td><td>297                                                                </td><td>Drink Water                                                        </td><td>311                                                                </td><td>163                                                                </td><td>616                                                                </td><td>/valorant/profile/riot/Drink%20Water%235252                        </td><td>https://tracker.gg/valorant/profile/riot/Drink%20Water%235252      </td><td>144.0                                                              </td><td>1.09                                                               </td><td>0.26                                                               </td><td>0.52                                                               </td><td> 3.779141                                                          </td></tr>\n",
       "\t<tr><td>298                                                                </td><td>298                                                                </td><td>WiLD                                                               </td><td>312                                                                </td><td> 86                                                                </td><td>615                                                                </td><td>/valorant/profile/riot/WiLD%23YAO                                  </td><td>https://tracker.gg/valorant/profile/riot/WiLD%23YAO                </td><td>136.6                                                              </td><td>1.00                                                               </td><td>0.26                                                               </td><td>0.44                                                               </td><td> 7.151163                                                          </td></tr>\n",
       "\t<tr><td>299                                                                </td><td>299                                                                </td><td>4fun player                                                        </td><td>313                                                                </td><td>145                                                                </td><td>615                                                                </td><td>/valorant/profile/riot/4fun%20player%23bear                        </td><td>https://tracker.gg/valorant/profile/riot/4fun%20player%23bear      </td><td>142.5                                                              </td><td>0.96                                                               </td><td>0.19                                                               </td><td>0.47                                                               </td><td> 4.241379                                                          </td></tr>\n",
       "</tbody>\n",
       "</table>\n"
      ],
      "text/latex": [
       "\\begin{tabular}{r|lllllllllllll}\n",
       " X & Unnamed..0 & player & rank & wins & rating & link & Urls & Damaged.rounds & killToDeath.ratio & headshot.. & win.. & rating.wins\\\\\n",
       "\\hline\n",
       "\t  0                                                                        &  0                                                                        & TSM FTX WARDELL                                                           &  1                                                                        & 128                                                                       & 1257                                                                      & /valorant/profile/riot/TSM\\%20FTX\\%20WARDELL\\%238266                   & https://tracker.gg/valorant/profile/riot/TSM\\%20FTX\\%20WARDELL\\%238266 & 171.2                                                                     & 1.44                                                                      & 0.23                                                                      & 0.57                                                                      &  9.820312                                                                \\\\\n",
       "\t  1                                                                      &  1                                                                      & SoaR Cryo                                                               &  2                                                                      & 139                                                                     & 1242                                                                    & /valorant/profile/riot/SoaR\\%20Cryo\\%23Sadge                          & https://tracker.gg/valorant/profile/riot/SoaR\\%20Cryo\\%23Sadge        & 172.4                                                                   & 1.32                                                                    & 0.29                                                                    & 0.66                                                                    &  8.935252                                                              \\\\\n",
       "\t  2                                                                        &  2                                                                        & TSM FTX bang                                                              &  3                                                                        & 150                                                                       & 1183                                                                      & /valorant/profile/riot/TSM\\%20FTX\\%20bang\\%230000                      & https://tracker.gg/valorant/profile/riot/TSM\\%20FTX\\%20bang\\%230000    & 156.5                                                                     & 1.17                                                                      & 0.39                                                                      & 0.54                                                                      &  7.886667                                                                \\\\\n",
       "\t  3                                                                      &  3                                                                      & SoaR zander                                                             &  4                                                                      & 133                                                                     & 1124                                                                    & /valorant/profile/riot/SoaR\\%20zander\\%23swagy                        & https://tracker.gg/valorant/profile/riot/SoaR\\%20zander\\%23swagy      & 151.1                                                                   & 1.24                                                                    & 0.28                                                                    & 0.67                                                                    &  8.451128                                                              \\\\\n",
       "\t  4                                                                      &  4                                                                      & 100T Asuna                                                              &  5                                                                      & 111                                                                     & 1120                                                                    & /valorant/profile/riot/100T\\%20Asuna\\%231111                          & https://tracker.gg/valorant/profile/riot/100T\\%20Asuna\\%231111        & 167.3                                                                   & 1.19                                                                    & 0.26                                                                    & 0.58                                                                    & 10.090090                                                              \\\\\n",
       "\t  5                                                                      &  5                                                                      & COL brawk                                                               &  6                                                                      &  88                                                                     & 1109                                                                    & /valorant/profile/riot/COL\\%20brawk\\%23420                            & https://tracker.gg/valorant/profile/riot/COL\\%20brawk\\%23420          & 148.3                                                                   & 1.01                                                                    & 0.27                                                                    & 0.50                                                                    & 12.602273                                                              \\\\\n",
       "\t  6                                                                      &  6                                                                      & GUARD JonahP                                                            &  7                                                                      & 143                                                                     & 1098                                                                    & /valorant/profile/riot/GUARD\\%20JonahP\\%23ttv                         & https://tracker.gg/valorant/profile/riot/GUARD\\%20JonahP\\%23ttv       & 160.1                                                                   & 1.18                                                                    & 0.29                                                                    & 0.63                                                                    &  7.678322                                                              \\\\\n",
       "\t  7                                                                      &  7                                                                      & T1 JAWGEMO                                                              &  8                                                                      & 133                                                                     & 1050                                                                    & /valorant/profile/riot/T1\\%20JAWGEMO\\%23MOR                           & https://tracker.gg/valorant/profile/riot/T1\\%20JAWGEMO\\%23MOR         & 161.2                                                                   & 1.13                                                                    & 0.24                                                                    & 0.54                                                                    &  7.894737                                                              \\\\\n",
       "\t  8                                                                      &  8                                                                      & T1 curry                                                                &  9                                                                      & 142                                                                     & 1040                                                                    & /valorant/profile/riot/T1\\%20curry\\%230000                            & https://tracker.gg/valorant/profile/riot/T1\\%20curry\\%230000          & 158.6                                                                   & 1.20                                                                    & 0.28                                                                    & 0.56                                                                    &  7.323944                                                              \\\\\n",
       "\t  9                                                                      &  9                                                                      & SEN sinatraa                                                            & 10                                                                      & 104                                                                     & 1025                                                                    & /valorant/profile/riot/SEN\\%20sinatraa\\%23idc                         & https://tracker.gg/valorant/profile/riot/SEN\\%20sinatraa\\%23idc       & 163.8                                                                   & 1.13                                                                    & 0.18                                                                    & 0.56                                                                    &  9.855769                                                              \\\\\n",
       "\t 10                                                                      & 10                                                                      & NRG hazed                                                               & 11                                                                      & 132                                                                     & 1015                                                                    & /valorant/profile/riot/NRG\\%20hazed\\%23NRG                            & https://tracker.gg/valorant/profile/riot/NRG\\%20hazed\\%23NRG          & 139.4                                                                   & 1.07                                                                    & 0.30                                                                    & 0.56                                                                    &  7.689394                                                              \\\\\n",
       "\t 11                                                                      & 11                                                                      & SEN SicK                                                                & 12                                                                      & 120                                                                     & 1011                                                                    & /valorant/profile/riot/SEN\\%20SicK\\%23xDDDD                           & https://tracker.gg/valorant/profile/riot/SEN\\%20SicK\\%23xDDDD         & 180.9                                                                   & 1.34                                                                    & 0.27                                                                    & 0.60                                                                    &  8.425000                                                              \\\\\n",
       "\t 12                                                                    & 12                                                                    & Lear                                                                  & 13                                                                    &  97                                                                   & 1010                                                                  & /valorant/profile/riot/Lear\\%23anna                                  & https://tracker.gg/valorant/profile/riot/Lear\\%23anna                & 147.7                                                                 & 1.12                                                                  & 0.27                                                                  & 0.56                                                                  & 10.412371                                                            \\\\\n",
       "\t 13                                                                      & 13                                                                      & NRG s0m                                                                 & 14                                                                      & 202                                                                     & 1002                                                                    & /valorant/profile/riot/NRG\\%20s0m\\%23NRG                              & https://tracker.gg/valorant/profile/riot/NRG\\%20s0m\\%23NRG            & 160.4                                                                   & 1.21                                                                    & 0.31                                                                    & 0.54                                                                    &  4.960396                                                              \\\\\n",
       "\t 14                                                                    & 14                                                                    & zt0L                                                                  & 15                                                                    & 120                                                                   &  997                                                                  & /valorant/profile/riot/zt0L\\%23TTV                                   & https://tracker.gg/valorant/profile/riot/zt0L\\%23TTV                 & 145.0                                                                 & 1.13                                                                  & 0.20                                                                  & 0.54                                                                  &  8.308333                                                            \\\\\n",
       "\t 15                                                                      & 15                                                                      & NRG tex                                                                 & 16                                                                      & 112                                                                     &  994                                                                    & /valorant/profile/riot/NRG\\%20tex\\%23x1mob                            & https://tracker.gg/valorant/profile/riot/NRG\\%20tex\\%23x1mob          & 162.7                                                                   & 1.20                                                                    & 0.34                                                                    & 0.60                                                                    &  8.875000                                                              \\\\\n",
       "\t 16                                                                      & 16                                                                      & GUARD valyn                                                             & 17                                                                      & 107                                                                     &  987                                                                    & /valorant/profile/riot/GUARD\\%20valyn\\%23000                          & https://tracker.gg/valorant/profile/riot/GUARD\\%20valyn\\%23000        &   0.0                                                                   & 1.51                                                                    & 0.00                                                                    & 0.30                                                                    &  9.224299                                                              \\\\\n",
       "\t 17                                                                      & 17                                                                      & V1 Zellsis                                                              & 18                                                                      &  71                                                                     &  975                                                                    & /valorant/profile/riot/V1\\%20Zellsis\\%231240                          & https://tracker.gg/valorant/profile/riot/V1\\%20Zellsis\\%231240        & 151.6                                                                   & 1.14                                                                    & 0.23                                                                    & 0.58                                                                    & 13.732394                                                              \\\\\n",
       "\t 18                                                                    & 18                                                                    & JASONR24                                                              & 19                                                                    & 249                                                                   &  971                                                                  & /valorant/profile/riot/JASONR24\\%239498                              & https://tracker.gg/valorant/profile/riot/JASONR24\\%239498            & 142.2                                                                 & 1.03                                                                  & 0.24                                                                  & 0.51                                                                  &  3.899598                                                            \\\\\n",
       "\t 19                                                                    & 19                                                                    & bearkun                                                               & 20                                                                    & 176                                                                   &  956                                                                  & /valorant/profile/riot/bearkun\\%23lily                               & https://tracker.gg/valorant/profile/riot/bearkun\\%23lily             & 137.1                                                                 & 1.00                                                                  & 0.20                                                                  & 0.45                                                                  &  5.431818                                                            \\\\\n",
       "\t 20                                                                      & 20                                                                      & two tone                                                                & 21                                                                      &  79                                                                     &  951                                                                    & /valorant/profile/riot/two\\%20tone\\%2342p                             & https://tracker.gg/valorant/profile/riot/two\\%20tone\\%2342p           & 154.3                                                                   & 1.13                                                                    & 0.25                                                                    & 0.53                                                                    & 12.037975                                                              \\\\\n",
       "\t 21                                                                      & 21                                                                      & XSET BcJ                                                                & 22                                                                      & 121                                                                     &  951                                                                    & /valorant/profile/riot/XSET\\%20BcJ\\%235FT2                            & https://tracker.gg/valorant/profile/riot/XSET\\%20BcJ\\%235FT2          & 154.5                                                                   & 1.26                                                                    & 0.21                                                                    & 0.52                                                                    &  7.859504                                                              \\\\\n",
       "\t 22                                                                      & 22                                                                      & NRG ANDROID                                                             & 23                                                                      & 115                                                                     &  943                                                                    & /valorant/profile/riot/NRG\\%20ANDROID\\%23NRG                          & https://tracker.gg/valorant/profile/riot/NRG\\%20ANDROID\\%23NRG        & 157.7                                                                   & 1.31                                                                    & 0.34                                                                    & 0.59                                                                    &  8.200000                                                              \\\\\n",
       "\t 23                                                                    & 23                                                                    & nillyaz                                                               & 24                                                                    &  85                                                                   &  926                                                                  & /valorant/profile/riot/nillyaz\\%23sosa                               & https://tracker.gg/valorant/profile/riot/nillyaz\\%23sosa             & 131.9                                                                 & 0.97                                                                  & 0.27                                                                  & 0.49                                                                  & 10.894118                                                            \\\\\n",
       "\t 24                                                                      & 24                                                                      & GHOST koalanoob                                                         & 25                                                                      & 164                                                                     &  925                                                                    & /valorant/profile/riot/GHOST\\%20koalanoob\\%23audry                    & https://tracker.gg/valorant/profile/riot/GHOST\\%20koalanoob\\%23audry  & 167.7                                                                   & 1.24                                                                    & 0.27                                                                    & 0.50                                                                    &  5.640244                                                              \\\\\n",
       "\t 25                                                                      & 25                                                                      & OXG Reduxx                                                              & 26                                                                      & 103                                                                     &  922                                                                    & /valorant/profile/riot/OXG\\%20Reduxx\\%23sara                          & https://tracker.gg/valorant/profile/riot/OXG\\%20Reduxx\\%23sara        & 172.7                                                                   & 1.21                                                                    & 0.28                                                                    & 0.55                                                                    &  8.951456                                                              \\\\\n",
       "\t 26                                                                    & 26                                                                    & Habib                                                                 & 27                                                                    &  97                                                                   &  920                                                                  & /valorant/profile/riot/Habib\\%231234                                 & https://tracker.gg/valorant/profile/riot/Habib\\%231234               & 151.0                                                                 & 1.10                                                                  & 0.31                                                                  & 0.56                                                                  &  9.484536                                                            \\\\\n",
       "\t 27                                                                    & 27                                                                    & geeza                                                                 & 28                                                                    & 151                                                                   &  919                                                                  & /valorant/profile/riot/geeza\\%23POG                                  & https://tracker.gg/valorant/profile/riot/geeza\\%23POG                & 154.7                                                                 & 1.12                                                                  & 0.36                                                                  & 0.45                                                                  &  6.086093                                                            \\\\\n",
       "\t 28                                                                      & 28                                                                      & NV Victor                                                               & 29                                                                      &  65                                                                     &  911                                                                    & /valorant/profile/riot/NV\\%20Victor\\%23777                            & https://tracker.gg/valorant/profile/riot/NV\\%20Victor\\%23777          & 159.9                                                                   & 1.07                                                                    & 0.29                                                                    & 0.51                                                                    & 14.015385                                                              \\\\\n",
       "\t 29                                                                      & 29                                                                      & BM Light                                                                & 30                                                                      & 116                                                                     &  907                                                                    & /valorant/profile/riot/BM\\%20Light\\%23Sadge                           & https://tracker.gg/valorant/profile/riot/BM\\%20Light\\%23Sadge         & 150.8                                                                   & 1.16                                                                    & 0.29                                                                    & 0.52                                                                    &  7.818966                                                              \\\\\n",
       "\t ... & ... & ... & ... & ... & ... & ... & ... & ... & ... & ... & ... & ...\\\\\n",
       "\t 270                                                                   & 270                                                                   & Bxdied                                                                & 282                                                                   &  91                                                                   & 626                                                                   & /valorant/profile/riot/Bxdied\\%23Bod                                 & https://tracker.gg/valorant/profile/riot/Bxdied\\%23Bod               & 245.9                                                                 & 1.39                                                                  & 0.33                                                                  & 0.00                                                                  &  6.879121                                                            \\\\\n",
       "\t 271                                                                     & 271                                                                     & EG BRANTED                                                              & 283                                                                     &  92                                                                     & 625                                                                     & /valorant/profile/riot/EG\\%20BRANTED\\%23EVIL                          & https://tracker.gg/valorant/profile/riot/EG\\%20BRANTED\\%23EVIL        & 127.1                                                                   & 0.92                                                                    & 0.31                                                                    & 0.51                                                                    &  6.793478                                                              \\\\\n",
       "\t 272                                                                   & 272                                                                   & snxper                                                                & 284                                                                   & 114                                                                   & 625                                                                   & /valorant/profile/riot/snxper\\%23OTF                                 & https://tracker.gg/valorant/profile/riot/snxper\\%23OTF               & 150.5                                                                 & 1.09                                                                  & 0.34                                                                  & 0.53                                                                  &  5.482456                                                            \\\\\n",
       "\t 273                                                                   & 273                                                                   & bouphapete                                                            & 285                                                                   &  90                                                                   & 625                                                                   & /valorant/profile/riot/bouphapete\\%23NA1                             & https://tracker.gg/valorant/profile/riot/bouphapete\\%23NA1           & 149.3                                                                 & 1.05                                                                  & 0.24                                                                  & 0.46                                                                  &  6.944444                                                            \\\\\n",
       "\t 274                                                                   & 274                                                                   & BigBootyJudy                                                          & 286                                                                   &  80                                                                   & 625                                                                   & /valorant/profile/riot/BigBootyJudy\\%23Here                          & https://tracker.gg/valorant/profile/riot/BigBootyJudy\\%23Here        & 164.1                                                                 & 1.34                                                                  & 0.29                                                                  & 0.65                                                                  &  7.812500                                                            \\\\\n",
       "\t 275                                                                     & 275                                                                     & AKREW Paincakes                                                         & 287                                                                     & 157                                                                     & 624                                                                     & /valorant/profile/riot/AKREW\\%20Paincakes\\%231738                     & https://tracker.gg/valorant/profile/riot/AKREW\\%20Paincakes\\%231738   & 153.6                                                                   & 1.10                                                                    & 0.28                                                                    & 0.45                                                                    &  3.974522                                                              \\\\\n",
       "\t 276                                                                   & 276                                                                   & Shadow                                                                & 288                                                                   & 109                                                                   & 624                                                                   & /valorant/profile/riot/Shadow\\%235152                                & https://tracker.gg/valorant/profile/riot/Shadow\\%235152              & 126.1                                                                 & 0.96                                                                  & 0.27                                                                  & 0.50                                                                  &  5.724771                                                            \\\\\n",
       "\t 277                                                                   & 277                                                                   & HighFlip                                                              & 289                                                                   &  91                                                                   & 624                                                                   & /valorant/profile/riot/HighFlip\\%23Flip                              & https://tracker.gg/valorant/profile/riot/HighFlip\\%23Flip            &   0.0                                                                 & 1.81                                                                  & 0.00                                                                  & 0.57                                                                  &  6.857143                                                            \\\\\n",
       "\t 278                                                                   & 278                                                                   & Jawmez                                                                & 290                                                                   & 165                                                                   & 624                                                                   & /valorant/profile/riot/Jawmez\\%231337                                & https://tracker.gg/valorant/profile/riot/Jawmez\\%231337              & 153.9                                                                 & 1.16                                                                  & 0.32                                                                  & 0.43                                                                  &  3.781818                                                            \\\\\n",
       "\t 279                                                                   & 279                                                                   & HIMACOPTER                                                            & 291                                                                   &  48                                                                   & 623                                                                   & /valorant/profile/riot/HIMACOPTER\\%23ZZZ                             & https://tracker.gg/valorant/profile/riot/HIMACOPTER\\%23ZZZ           & 134.7                                                                 & 0.93                                                                  & 0.21                                                                  & 0.44                                                                  & 12.979167                                                            \\\\\n",
       "\t 280                                                                     & 280                                                                     & Able chicago                                                            & 293                                                                     &  61                                                                     & 623                                                                     & /valorant/profile/riot/Able\\%20chicago\\%23007                         & https://tracker.gg/valorant/profile/riot/Able\\%20chicago\\%23007       & 156.0                                                                   & 1.12                                                                    & 0.29                                                                    & 0.46                                                                    & 10.213115                                                              \\\\\n",
       "\t 281                                                                   & 281                                                                   & HaanzeR                                                               & 295                                                                   & 166                                                                   & 623                                                                   & /valorant/profile/riot/HaanzeR\\%23manda                              & https://tracker.gg/valorant/profile/riot/HaanzeR\\%23manda            & 140.1                                                                 & 0.96                                                                  & 0.25                                                                  & 0.49                                                                  &  3.753012                                                            \\\\\n",
       "\t 282                                                                   & 282                                                                   & Nara                                                                  & 296                                                                   &  68                                                                   & 623                                                                   & /valorant/profile/riot/Nara\\%23604                                   & https://tracker.gg/valorant/profile/riot/Nara\\%23604                 & 133.0                                                                 & 1.00                                                                  & 0.27                                                                  & 0.52                                                                  &  9.161765                                                            \\\\\n",
       "\t 283                                                                   & 283                                                                   & noli                                                                  & 297                                                                   &  60                                                                   & 622                                                                   & /valorant/profile/riot/noli\\%23liinz                                 & https://tracker.gg/valorant/profile/riot/noli\\%23liinz               & 154.5                                                                 & 1.17                                                                  & 0.30                                                                  & 0.53                                                                  & 10.366667                                                            \\\\\n",
       "\t 284                                                                   & 284                                                                   & BigPoppak                                                             & 298                                                                   & 154                                                                   & 622                                                                   & /valorant/profile/riot/BigPoppak\\%23dznut                            & https://tracker.gg/valorant/profile/riot/BigPoppak\\%23dznut          & 151.3                                                                 & 1.03                                                                  & 0.29                                                                  & 0.49                                                                  &  4.038961                                                            \\\\\n",
       "\t 285                                                                   & 285                                                                   & cutefatboy                                                            & 299                                                                   & 171                                                                   & 621                                                                   & /valorant/profile/riot/cutefatboy\\%23frick                           & https://tracker.gg/valorant/profile/riot/cutefatboy\\%23frick         & 141.3                                                                 & 1.05                                                                  & 0.31                                                                  & 0.48                                                                  &  3.631579                                                            \\\\\n",
       "\t 286                                                                   & 286                                                                   & ACE                                                                   & 300                                                                   & 117                                                                   & 620                                                                   & /valorant/profile/riot/ACE\\%233131                                   & https://tracker.gg/valorant/profile/riot/ACE\\%233131                 & 144.3                                                                 & 1.01                                                                  & 0.25                                                                  & 0.49                                                                  &  5.299145                                                            \\\\\n",
       "\t 287                                                                     & 287                                                                     & GenG gMd                                                                & 301                                                                     &  71                                                                     & 619                                                                     & /valorant/profile/riot/GenG\\%20gMd\\%231337                            & https://tracker.gg/valorant/profile/riot/GenG\\%20gMd\\%231337          & 153.3                                                                   & 1.08                                                                    & 0.29                                                                    & 0.49                                                                    &  8.718310                                                              \\\\\n",
       "\t 288                                                                   & 288                                                                   & bork                                                                  & 302                                                                   & 138                                                                   & 619                                                                   & /valorant/profile/riot/bork\\%23QwQ                                   & https://tracker.gg/valorant/profile/riot/bork\\%23QwQ                 & 142.1                                                                 & 1.10                                                                  & 0.25                                                                  & 0.52                                                                  &  4.485507                                                            \\\\\n",
       "\t 289                                                                     & 289                                                                     & smallest borther                                                        & 303                                                                     &  73                                                                     & 618                                                                     & /valorant/profile/riot/smallest\\%20borther\\%23burgr                   & https://tracker.gg/valorant/profile/riot/smallest\\%20borther\\%23burgr & 154.9                                                                   & 1.11                                                                    & 0.24                                                                    & 0.56                                                                    &  8.465753                                                              \\\\\n",
       "\t 290                                                                   & 290                                                                   & BERE                                                                  & 304                                                                   &  70                                                                   & 617                                                                   & /valorant/profile/riot/BERE\\%23tiff                                  & https://tracker.gg/valorant/profile/riot/BERE\\%23tiff                & 139.9                                                                 & 1.01                                                                  & 0.34                                                                  & 0.42                                                                  &  8.814286                                                            \\\\\n",
       "\t 291                                                                   & 291                                                                   & Nite                                                                  & 305                                                                   &  48                                                                   & 617                                                                   & /valorant/profile/riot/Nite\\%23King                                  & https://tracker.gg/valorant/profile/riot/Nite\\%23King                & 143.7                                                                 & 1.05                                                                  & 0.20                                                                  & 0.46                                                                  & 12.854167                                                            \\\\\n",
       "\t 292                                                                   & 292                                                                   & k0rean                                                                & 306                                                                   & 241                                                                   & 617                                                                   & /valorant/profile/riot/k0rean\\%23JETT                                & https://tracker.gg/valorant/profile/riot/k0rean\\%23JETT              & 144.7                                                                 & 1.03                                                                  & 0.16                                                                  & 0.47                                                                  &  2.560166                                                            \\\\\n",
       "\t 293                                                                   & 293                                                                   & furbsa                                                                & 307                                                                   & 161                                                                   & 617                                                                   & /valorant/profile/riot/furbsa\\%23wnl                                 & https://tracker.gg/valorant/profile/riot/furbsa\\%23wnl               & 156.3                                                                 & 1.11                                                                  & 0.34                                                                  & 0.49                                                                  &  3.832298                                                            \\\\\n",
       "\t 294                                                                   & 294                                                                   & bew                                                                   & 308                                                                   & 133                                                                   & 617                                                                   & /valorant/profile/riot/bew\\%23666                                    & https://tracker.gg/valorant/profile/riot/bew\\%23666                  & 156.8                                                                 & 1.26                                                                  & 0.30                                                                  & 0.70                                                                  &  4.639098                                                            \\\\\n",
       "\t 295                                                                   & 295                                                                   & Apoth                                                                 & 309                                                                   &  57                                                                   & 616                                                                   & /valorant/profile/riot/Apoth\\%23DOG                                  & https://tracker.gg/valorant/profile/riot/Apoth\\%23DOG                & 149.2                                                                 & 1.13                                                                  & 0.34                                                                  & 0.55                                                                  & 10.807018                                                            \\\\\n",
       "\t 296                                                                     & 296                                                                     & DZ ScrewFace                                                            & 310                                                                     &  91                                                                     & 616                                                                     & /valorant/profile/riot/DZ\\%20ScrewFace\\%23MEOW                        & https://tracker.gg/valorant/profile/riot/DZ\\%20ScrewFace\\%23MEOW      & 145.9                                                                   & 1.03                                                                    & 0.23                                                                    & 0.47                                                                    &  6.769231                                                              \\\\\n",
       "\t 297                                                                     & 297                                                                     & Drink Water                                                             & 311                                                                     & 163                                                                     & 616                                                                     & /valorant/profile/riot/Drink\\%20Water\\%235252                         & https://tracker.gg/valorant/profile/riot/Drink\\%20Water\\%235252       & 144.0                                                                   & 1.09                                                                    & 0.26                                                                    & 0.52                                                                    &  3.779141                                                              \\\\\n",
       "\t 298                                                                   & 298                                                                   & WiLD                                                                  & 312                                                                   &  86                                                                   & 615                                                                   & /valorant/profile/riot/WiLD\\%23YAO                                   & https://tracker.gg/valorant/profile/riot/WiLD\\%23YAO                 & 136.6                                                                 & 1.00                                                                  & 0.26                                                                  & 0.44                                                                  &  7.151163                                                            \\\\\n",
       "\t 299                                                                     & 299                                                                     & 4fun player                                                             & 313                                                                     & 145                                                                     & 615                                                                     & /valorant/profile/riot/4fun\\%20player\\%23bear                         & https://tracker.gg/valorant/profile/riot/4fun\\%20player\\%23bear       & 142.5                                                                   & 0.96                                                                    & 0.19                                                                    & 0.47                                                                    &  4.241379                                                              \\\\\n",
       "\\end{tabular}\n"
      ],
      "text/markdown": [
       "\n",
       "| X | Unnamed..0 | player | rank | wins | rating | link | Urls | Damaged.rounds | killToDeath.ratio | headshot.. | win.. | rating.wins |\n",
       "|---|---|---|---|---|---|---|---|---|---|---|---|---|\n",
       "|  0                                                                  |  0                                                                  | TSM FTX WARDELL                                                     |  1                                                                  | 128                                                                 | 1257                                                                | /valorant/profile/riot/TSM%20FTX%20WARDELL%238266                   | https://tracker.gg/valorant/profile/riot/TSM%20FTX%20WARDELL%238266 | 171.2                                                               | 1.44                                                                | 0.23                                                                | 0.57                                                                |  9.820312                                                           |\n",
       "|  1                                                                  |  1                                                                  | SoaR Cryo                                                           |  2                                                                  | 139                                                                 | 1242                                                                | /valorant/profile/riot/SoaR%20Cryo%23Sadge                          | https://tracker.gg/valorant/profile/riot/SoaR%20Cryo%23Sadge        | 172.4                                                               | 1.32                                                                | 0.29                                                                | 0.66                                                                |  8.935252                                                           |\n",
       "|  2                                                                  |  2                                                                  | TSM FTX bang                                                        |  3                                                                  | 150                                                                 | 1183                                                                | /valorant/profile/riot/TSM%20FTX%20bang%230000                      | https://tracker.gg/valorant/profile/riot/TSM%20FTX%20bang%230000    | 156.5                                                               | 1.17                                                                | 0.39                                                                | 0.54                                                                |  7.886667                                                           |\n",
       "|  3                                                                  |  3                                                                  | SoaR zander                                                         |  4                                                                  | 133                                                                 | 1124                                                                | /valorant/profile/riot/SoaR%20zander%23swagy                        | https://tracker.gg/valorant/profile/riot/SoaR%20zander%23swagy      | 151.1                                                               | 1.24                                                                | 0.28                                                                | 0.67                                                                |  8.451128                                                           |\n",
       "|  4                                                                  |  4                                                                  | 100T Asuna                                                          |  5                                                                  | 111                                                                 | 1120                                                                | /valorant/profile/riot/100T%20Asuna%231111                          | https://tracker.gg/valorant/profile/riot/100T%20Asuna%231111        | 167.3                                                               | 1.19                                                                | 0.26                                                                | 0.58                                                                | 10.090090                                                           |\n",
       "|  5                                                                  |  5                                                                  | COL brawk                                                           |  6                                                                  |  88                                                                 | 1109                                                                | /valorant/profile/riot/COL%20brawk%23420                            | https://tracker.gg/valorant/profile/riot/COL%20brawk%23420          | 148.3                                                               | 1.01                                                                | 0.27                                                                | 0.50                                                                | 12.602273                                                           |\n",
       "|  6                                                                  |  6                                                                  | GUARD JonahP                                                        |  7                                                                  | 143                                                                 | 1098                                                                | /valorant/profile/riot/GUARD%20JonahP%23ttv                         | https://tracker.gg/valorant/profile/riot/GUARD%20JonahP%23ttv       | 160.1                                                               | 1.18                                                                | 0.29                                                                | 0.63                                                                |  7.678322                                                           |\n",
       "|  7                                                                  |  7                                                                  | T1 JAWGEMO                                                          |  8                                                                  | 133                                                                 | 1050                                                                | /valorant/profile/riot/T1%20JAWGEMO%23MOR                           | https://tracker.gg/valorant/profile/riot/T1%20JAWGEMO%23MOR         | 161.2                                                               | 1.13                                                                | 0.24                                                                | 0.54                                                                |  7.894737                                                           |\n",
       "|  8                                                                  |  8                                                                  | T1 curry                                                            |  9                                                                  | 142                                                                 | 1040                                                                | /valorant/profile/riot/T1%20curry%230000                            | https://tracker.gg/valorant/profile/riot/T1%20curry%230000          | 158.6                                                               | 1.20                                                                | 0.28                                                                | 0.56                                                                |  7.323944                                                           |\n",
       "|  9                                                                  |  9                                                                  | SEN sinatraa                                                        | 10                                                                  | 104                                                                 | 1025                                                                | /valorant/profile/riot/SEN%20sinatraa%23idc                         | https://tracker.gg/valorant/profile/riot/SEN%20sinatraa%23idc       | 163.8                                                               | 1.13                                                                | 0.18                                                                | 0.56                                                                |  9.855769                                                           |\n",
       "| 10                                                                  | 10                                                                  | NRG hazed                                                           | 11                                                                  | 132                                                                 | 1015                                                                | /valorant/profile/riot/NRG%20hazed%23NRG                            | https://tracker.gg/valorant/profile/riot/NRG%20hazed%23NRG          | 139.4                                                               | 1.07                                                                | 0.30                                                                | 0.56                                                                |  7.689394                                                           |\n",
       "| 11                                                                  | 11                                                                  | SEN SicK                                                            | 12                                                                  | 120                                                                 | 1011                                                                | /valorant/profile/riot/SEN%20SicK%23xDDDD                           | https://tracker.gg/valorant/profile/riot/SEN%20SicK%23xDDDD         | 180.9                                                               | 1.34                                                                | 0.27                                                                | 0.60                                                                |  8.425000                                                           |\n",
       "| 12                                                                  | 12                                                                  | Lear                                                                | 13                                                                  |  97                                                                 | 1010                                                                | /valorant/profile/riot/Lear%23anna                                  | https://tracker.gg/valorant/profile/riot/Lear%23anna                | 147.7                                                               | 1.12                                                                | 0.27                                                                | 0.56                                                                | 10.412371                                                           |\n",
       "| 13                                                                  | 13                                                                  | NRG s0m                                                             | 14                                                                  | 202                                                                 | 1002                                                                | /valorant/profile/riot/NRG%20s0m%23NRG                              | https://tracker.gg/valorant/profile/riot/NRG%20s0m%23NRG            | 160.4                                                               | 1.21                                                                | 0.31                                                                | 0.54                                                                |  4.960396                                                           |\n",
       "| 14                                                                  | 14                                                                  | zt0L                                                                | 15                                                                  | 120                                                                 |  997                                                                | /valorant/profile/riot/zt0L%23TTV                                   | https://tracker.gg/valorant/profile/riot/zt0L%23TTV                 | 145.0                                                               | 1.13                                                                | 0.20                                                                | 0.54                                                                |  8.308333                                                           |\n",
       "| 15                                                                  | 15                                                                  | NRG tex                                                             | 16                                                                  | 112                                                                 |  994                                                                | /valorant/profile/riot/NRG%20tex%23x1mob                            | https://tracker.gg/valorant/profile/riot/NRG%20tex%23x1mob          | 162.7                                                               | 1.20                                                                | 0.34                                                                | 0.60                                                                |  8.875000                                                           |\n",
       "| 16                                                                  | 16                                                                  | GUARD valyn                                                         | 17                                                                  | 107                                                                 |  987                                                                | /valorant/profile/riot/GUARD%20valyn%23000                          | https://tracker.gg/valorant/profile/riot/GUARD%20valyn%23000        |   0.0                                                               | 1.51                                                                | 0.00                                                                | 0.30                                                                |  9.224299                                                           |\n",
       "| 17                                                                  | 17                                                                  | V1 Zellsis                                                          | 18                                                                  |  71                                                                 |  975                                                                | /valorant/profile/riot/V1%20Zellsis%231240                          | https://tracker.gg/valorant/profile/riot/V1%20Zellsis%231240        | 151.6                                                               | 1.14                                                                | 0.23                                                                | 0.58                                                                | 13.732394                                                           |\n",
       "| 18                                                                  | 18                                                                  | JASONR24                                                            | 19                                                                  | 249                                                                 |  971                                                                | /valorant/profile/riot/JASONR24%239498                              | https://tracker.gg/valorant/profile/riot/JASONR24%239498            | 142.2                                                               | 1.03                                                                | 0.24                                                                | 0.51                                                                |  3.899598                                                           |\n",
       "| 19                                                                  | 19                                                                  | bearkun                                                             | 20                                                                  | 176                                                                 |  956                                                                | /valorant/profile/riot/bearkun%23lily                               | https://tracker.gg/valorant/profile/riot/bearkun%23lily             | 137.1                                                               | 1.00                                                                | 0.20                                                                | 0.45                                                                |  5.431818                                                           |\n",
       "| 20                                                                  | 20                                                                  | two tone                                                            | 21                                                                  |  79                                                                 |  951                                                                | /valorant/profile/riot/two%20tone%2342p                             | https://tracker.gg/valorant/profile/riot/two%20tone%2342p           | 154.3                                                               | 1.13                                                                | 0.25                                                                | 0.53                                                                | 12.037975                                                           |\n",
       "| 21                                                                  | 21                                                                  | XSET BcJ                                                            | 22                                                                  | 121                                                                 |  951                                                                | /valorant/profile/riot/XSET%20BcJ%235FT2                            | https://tracker.gg/valorant/profile/riot/XSET%20BcJ%235FT2          | 154.5                                                               | 1.26                                                                | 0.21                                                                | 0.52                                                                |  7.859504                                                           |\n",
       "| 22                                                                  | 22                                                                  | NRG ANDROID                                                         | 23                                                                  | 115                                                                 |  943                                                                | /valorant/profile/riot/NRG%20ANDROID%23NRG                          | https://tracker.gg/valorant/profile/riot/NRG%20ANDROID%23NRG        | 157.7                                                               | 1.31                                                                | 0.34                                                                | 0.59                                                                |  8.200000                                                           |\n",
       "| 23                                                                  | 23                                                                  | nillyaz                                                             | 24                                                                  |  85                                                                 |  926                                                                | /valorant/profile/riot/nillyaz%23sosa                               | https://tracker.gg/valorant/profile/riot/nillyaz%23sosa             | 131.9                                                               | 0.97                                                                | 0.27                                                                | 0.49                                                                | 10.894118                                                           |\n",
       "| 24                                                                  | 24                                                                  | GHOST koalanoob                                                     | 25                                                                  | 164                                                                 |  925                                                                | /valorant/profile/riot/GHOST%20koalanoob%23audry                    | https://tracker.gg/valorant/profile/riot/GHOST%20koalanoob%23audry  | 167.7                                                               | 1.24                                                                | 0.27                                                                | 0.50                                                                |  5.640244                                                           |\n",
       "| 25                                                                  | 25                                                                  | OXG Reduxx                                                          | 26                                                                  | 103                                                                 |  922                                                                | /valorant/profile/riot/OXG%20Reduxx%23sara                          | https://tracker.gg/valorant/profile/riot/OXG%20Reduxx%23sara        | 172.7                                                               | 1.21                                                                | 0.28                                                                | 0.55                                                                |  8.951456                                                           |\n",
       "| 26                                                                  | 26                                                                  | Habib                                                               | 27                                                                  |  97                                                                 |  920                                                                | /valorant/profile/riot/Habib%231234                                 | https://tracker.gg/valorant/profile/riot/Habib%231234               | 151.0                                                               | 1.10                                                                | 0.31                                                                | 0.56                                                                |  9.484536                                                           |\n",
       "| 27                                                                  | 27                                                                  | geeza                                                               | 28                                                                  | 151                                                                 |  919                                                                | /valorant/profile/riot/geeza%23POG                                  | https://tracker.gg/valorant/profile/riot/geeza%23POG                | 154.7                                                               | 1.12                                                                | 0.36                                                                | 0.45                                                                |  6.086093                                                           |\n",
       "| 28                                                                  | 28                                                                  | NV Victor                                                           | 29                                                                  |  65                                                                 |  911                                                                | /valorant/profile/riot/NV%20Victor%23777                            | https://tracker.gg/valorant/profile/riot/NV%20Victor%23777          | 159.9                                                               | 1.07                                                                | 0.29                                                                | 0.51                                                                | 14.015385                                                           |\n",
       "| 29                                                                  | 29                                                                  | BM Light                                                            | 30                                                                  | 116                                                                 |  907                                                                | /valorant/profile/riot/BM%20Light%23Sadge                           | https://tracker.gg/valorant/profile/riot/BM%20Light%23Sadge         | 150.8                                                               | 1.16                                                                | 0.29                                                                | 0.52                                                                |  7.818966                                                           |\n",
       "| ... | ... | ... | ... | ... | ... | ... | ... | ... | ... | ... | ... | ... |\n",
       "| 270                                                                 | 270                                                                 | Bxdied                                                              | 282                                                                 |  91                                                                 | 626                                                                 | /valorant/profile/riot/Bxdied%23Bod                                 | https://tracker.gg/valorant/profile/riot/Bxdied%23Bod               | 245.9                                                               | 1.39                                                                | 0.33                                                                | 0.00                                                                |  6.879121                                                           |\n",
       "| 271                                                                 | 271                                                                 | EG BRANTED                                                          | 283                                                                 |  92                                                                 | 625                                                                 | /valorant/profile/riot/EG%20BRANTED%23EVIL                          | https://tracker.gg/valorant/profile/riot/EG%20BRANTED%23EVIL        | 127.1                                                               | 0.92                                                                | 0.31                                                                | 0.51                                                                |  6.793478                                                           |\n",
       "| 272                                                                 | 272                                                                 | snxper                                                              | 284                                                                 | 114                                                                 | 625                                                                 | /valorant/profile/riot/snxper%23OTF                                 | https://tracker.gg/valorant/profile/riot/snxper%23OTF               | 150.5                                                               | 1.09                                                                | 0.34                                                                | 0.53                                                                |  5.482456                                                           |\n",
       "| 273                                                                 | 273                                                                 | bouphapete                                                          | 285                                                                 |  90                                                                 | 625                                                                 | /valorant/profile/riot/bouphapete%23NA1                             | https://tracker.gg/valorant/profile/riot/bouphapete%23NA1           | 149.3                                                               | 1.05                                                                | 0.24                                                                | 0.46                                                                |  6.944444                                                           |\n",
       "| 274                                                                 | 274                                                                 | BigBootyJudy                                                        | 286                                                                 |  80                                                                 | 625                                                                 | /valorant/profile/riot/BigBootyJudy%23Here                          | https://tracker.gg/valorant/profile/riot/BigBootyJudy%23Here        | 164.1                                                               | 1.34                                                                | 0.29                                                                | 0.65                                                                |  7.812500                                                           |\n",
       "| 275                                                                 | 275                                                                 | AKREW Paincakes                                                     | 287                                                                 | 157                                                                 | 624                                                                 | /valorant/profile/riot/AKREW%20Paincakes%231738                     | https://tracker.gg/valorant/profile/riot/AKREW%20Paincakes%231738   | 153.6                                                               | 1.10                                                                | 0.28                                                                | 0.45                                                                |  3.974522                                                           |\n",
       "| 276                                                                 | 276                                                                 | Shadow                                                              | 288                                                                 | 109                                                                 | 624                                                                 | /valorant/profile/riot/Shadow%235152                                | https://tracker.gg/valorant/profile/riot/Shadow%235152              | 126.1                                                               | 0.96                                                                | 0.27                                                                | 0.50                                                                |  5.724771                                                           |\n",
       "| 277                                                                 | 277                                                                 | HighFlip                                                            | 289                                                                 |  91                                                                 | 624                                                                 | /valorant/profile/riot/HighFlip%23Flip                              | https://tracker.gg/valorant/profile/riot/HighFlip%23Flip            |   0.0                                                               | 1.81                                                                | 0.00                                                                | 0.57                                                                |  6.857143                                                           |\n",
       "| 278                                                                 | 278                                                                 | Jawmez                                                              | 290                                                                 | 165                                                                 | 624                                                                 | /valorant/profile/riot/Jawmez%231337                                | https://tracker.gg/valorant/profile/riot/Jawmez%231337              | 153.9                                                               | 1.16                                                                | 0.32                                                                | 0.43                                                                |  3.781818                                                           |\n",
       "| 279                                                                 | 279                                                                 | HIMACOPTER                                                          | 291                                                                 |  48                                                                 | 623                                                                 | /valorant/profile/riot/HIMACOPTER%23ZZZ                             | https://tracker.gg/valorant/profile/riot/HIMACOPTER%23ZZZ           | 134.7                                                               | 0.93                                                                | 0.21                                                                | 0.44                                                                | 12.979167                                                           |\n",
       "| 280                                                                 | 280                                                                 | Able chicago                                                        | 293                                                                 |  61                                                                 | 623                                                                 | /valorant/profile/riot/Able%20chicago%23007                         | https://tracker.gg/valorant/profile/riot/Able%20chicago%23007       | 156.0                                                               | 1.12                                                                | 0.29                                                                | 0.46                                                                | 10.213115                                                           |\n",
       "| 281                                                                 | 281                                                                 | HaanzeR                                                             | 295                                                                 | 166                                                                 | 623                                                                 | /valorant/profile/riot/HaanzeR%23manda                              | https://tracker.gg/valorant/profile/riot/HaanzeR%23manda            | 140.1                                                               | 0.96                                                                | 0.25                                                                | 0.49                                                                |  3.753012                                                           |\n",
       "| 282                                                                 | 282                                                                 | Nara                                                                | 296                                                                 |  68                                                                 | 623                                                                 | /valorant/profile/riot/Nara%23604                                   | https://tracker.gg/valorant/profile/riot/Nara%23604                 | 133.0                                                               | 1.00                                                                | 0.27                                                                | 0.52                                                                |  9.161765                                                           |\n",
       "| 283                                                                 | 283                                                                 | noli                                                                | 297                                                                 |  60                                                                 | 622                                                                 | /valorant/profile/riot/noli%23liinz                                 | https://tracker.gg/valorant/profile/riot/noli%23liinz               | 154.5                                                               | 1.17                                                                | 0.30                                                                | 0.53                                                                | 10.366667                                                           |\n",
       "| 284                                                                 | 284                                                                 | BigPoppak                                                           | 298                                                                 | 154                                                                 | 622                                                                 | /valorant/profile/riot/BigPoppak%23dznut                            | https://tracker.gg/valorant/profile/riot/BigPoppak%23dznut          | 151.3                                                               | 1.03                                                                | 0.29                                                                | 0.49                                                                |  4.038961                                                           |\n",
       "| 285                                                                 | 285                                                                 | cutefatboy                                                          | 299                                                                 | 171                                                                 | 621                                                                 | /valorant/profile/riot/cutefatboy%23frick                           | https://tracker.gg/valorant/profile/riot/cutefatboy%23frick         | 141.3                                                               | 1.05                                                                | 0.31                                                                | 0.48                                                                |  3.631579                                                           |\n",
       "| 286                                                                 | 286                                                                 | ACE                                                                 | 300                                                                 | 117                                                                 | 620                                                                 | /valorant/profile/riot/ACE%233131                                   | https://tracker.gg/valorant/profile/riot/ACE%233131                 | 144.3                                                               | 1.01                                                                | 0.25                                                                | 0.49                                                                |  5.299145                                                           |\n",
       "| 287                                                                 | 287                                                                 | GenG gMd                                                            | 301                                                                 |  71                                                                 | 619                                                                 | /valorant/profile/riot/GenG%20gMd%231337                            | https://tracker.gg/valorant/profile/riot/GenG%20gMd%231337          | 153.3                                                               | 1.08                                                                | 0.29                                                                | 0.49                                                                |  8.718310                                                           |\n",
       "| 288                                                                 | 288                                                                 | bork                                                                | 302                                                                 | 138                                                                 | 619                                                                 | /valorant/profile/riot/bork%23QwQ                                   | https://tracker.gg/valorant/profile/riot/bork%23QwQ                 | 142.1                                                               | 1.10                                                                | 0.25                                                                | 0.52                                                                |  4.485507                                                           |\n",
       "| 289                                                                 | 289                                                                 | smallest borther                                                    | 303                                                                 |  73                                                                 | 618                                                                 | /valorant/profile/riot/smallest%20borther%23burgr                   | https://tracker.gg/valorant/profile/riot/smallest%20borther%23burgr | 154.9                                                               | 1.11                                                                | 0.24                                                                | 0.56                                                                |  8.465753                                                           |\n",
       "| 290                                                                 | 290                                                                 | BERE                                                                | 304                                                                 |  70                                                                 | 617                                                                 | /valorant/profile/riot/BERE%23tiff                                  | https://tracker.gg/valorant/profile/riot/BERE%23tiff                | 139.9                                                               | 1.01                                                                | 0.34                                                                | 0.42                                                                |  8.814286                                                           |\n",
       "| 291                                                                 | 291                                                                 | Nite                                                                | 305                                                                 |  48                                                                 | 617                                                                 | /valorant/profile/riot/Nite%23King                                  | https://tracker.gg/valorant/profile/riot/Nite%23King                | 143.7                                                               | 1.05                                                                | 0.20                                                                | 0.46                                                                | 12.854167                                                           |\n",
       "| 292                                                                 | 292                                                                 | k0rean                                                              | 306                                                                 | 241                                                                 | 617                                                                 | /valorant/profile/riot/k0rean%23JETT                                | https://tracker.gg/valorant/profile/riot/k0rean%23JETT              | 144.7                                                               | 1.03                                                                | 0.16                                                                | 0.47                                                                |  2.560166                                                           |\n",
       "| 293                                                                 | 293                                                                 | furbsa                                                              | 307                                                                 | 161                                                                 | 617                                                                 | /valorant/profile/riot/furbsa%23wnl                                 | https://tracker.gg/valorant/profile/riot/furbsa%23wnl               | 156.3                                                               | 1.11                                                                | 0.34                                                                | 0.49                                                                |  3.832298                                                           |\n",
       "| 294                                                                 | 294                                                                 | bew                                                                 | 308                                                                 | 133                                                                 | 617                                                                 | /valorant/profile/riot/bew%23666                                    | https://tracker.gg/valorant/profile/riot/bew%23666                  | 156.8                                                               | 1.26                                                                | 0.30                                                                | 0.70                                                                |  4.639098                                                           |\n",
       "| 295                                                                 | 295                                                                 | Apoth                                                               | 309                                                                 |  57                                                                 | 616                                                                 | /valorant/profile/riot/Apoth%23DOG                                  | https://tracker.gg/valorant/profile/riot/Apoth%23DOG                | 149.2                                                               | 1.13                                                                | 0.34                                                                | 0.55                                                                | 10.807018                                                           |\n",
       "| 296                                                                 | 296                                                                 | DZ ScrewFace                                                        | 310                                                                 |  91                                                                 | 616                                                                 | /valorant/profile/riot/DZ%20ScrewFace%23MEOW                        | https://tracker.gg/valorant/profile/riot/DZ%20ScrewFace%23MEOW      | 145.9                                                               | 1.03                                                                | 0.23                                                                | 0.47                                                                |  6.769231                                                           |\n",
       "| 297                                                                 | 297                                                                 | Drink Water                                                         | 311                                                                 | 163                                                                 | 616                                                                 | /valorant/profile/riot/Drink%20Water%235252                         | https://tracker.gg/valorant/profile/riot/Drink%20Water%235252       | 144.0                                                               | 1.09                                                                | 0.26                                                                | 0.52                                                                |  3.779141                                                           |\n",
       "| 298                                                                 | 298                                                                 | WiLD                                                                | 312                                                                 |  86                                                                 | 615                                                                 | /valorant/profile/riot/WiLD%23YAO                                   | https://tracker.gg/valorant/profile/riot/WiLD%23YAO                 | 136.6                                                               | 1.00                                                                | 0.26                                                                | 0.44                                                                |  7.151163                                                           |\n",
       "| 299                                                                 | 299                                                                 | 4fun player                                                         | 313                                                                 | 145                                                                 | 615                                                                 | /valorant/profile/riot/4fun%20player%23bear                         | https://tracker.gg/valorant/profile/riot/4fun%20player%23bear       | 142.5                                                               | 0.96                                                                | 0.19                                                                | 0.47                                                                |  4.241379                                                           |\n",
       "\n"
      ],
      "text/plain": [
       "    X   Unnamed..0 player           rank wins rating\n",
       "1    0   0         TSM FTX WARDELL   1   128  1257  \n",
       "2    1   1         SoaR Cryo         2   139  1242  \n",
       "3    2   2         TSM FTX bang      3   150  1183  \n",
       "4    3   3         SoaR zander       4   133  1124  \n",
       "5    4   4         100T Asuna        5   111  1120  \n",
       "6    5   5         COL brawk         6    88  1109  \n",
       "7    6   6         GUARD JonahP      7   143  1098  \n",
       "8    7   7         T1 JAWGEMO        8   133  1050  \n",
       "9    8   8         T1 curry          9   142  1040  \n",
       "10   9   9         SEN sinatraa     10   104  1025  \n",
       "11  10  10         NRG hazed        11   132  1015  \n",
       "12  11  11         SEN SicK         12   120  1011  \n",
       "13  12  12         Lear             13    97  1010  \n",
       "14  13  13         NRG s0m          14   202  1002  \n",
       "15  14  14         zt0L             15   120   997  \n",
       "16  15  15         NRG tex          16   112   994  \n",
       "17  16  16         GUARD valyn      17   107   987  \n",
       "18  17  17         V1 Zellsis       18    71   975  \n",
       "19  18  18         JASONR24         19   249   971  \n",
       "20  19  19         bearkun          20   176   956  \n",
       "21  20  20         two tone         21    79   951  \n",
       "22  21  21         XSET BcJ         22   121   951  \n",
       "23  22  22         NRG ANDROID      23   115   943  \n",
       "24  23  23         nillyaz          24    85   926  \n",
       "25  24  24         GHOST koalanoob  25   164   925  \n",
       "26  25  25         OXG Reduxx       26   103   922  \n",
       "27  26  26         Habib            27    97   920  \n",
       "28  27  27         geeza            28   151   919  \n",
       "29  28  28         NV Victor        29    65   911  \n",
       "30  29  29         BM Light         30   116   907  \n",
       "... ... ...        ...              ...  ...  ...   \n",
       "271 270 270        Bxdied           282   91  626   \n",
       "272 271 271        EG BRANTED       283   92  625   \n",
       "273 272 272        snxper           284  114  625   \n",
       "274 273 273        bouphapete       285   90  625   \n",
       "275 274 274        BigBootyJudy     286   80  625   \n",
       "276 275 275        AKREW Paincakes  287  157  624   \n",
       "277 276 276        Shadow           288  109  624   \n",
       "278 277 277        HighFlip         289   91  624   \n",
       "279 278 278        Jawmez           290  165  624   \n",
       "280 279 279        HIMACOPTER       291   48  623   \n",
       "281 280 280        Able chicago     293   61  623   \n",
       "282 281 281        HaanzeR          295  166  623   \n",
       "283 282 282        Nara             296   68  623   \n",
       "284 283 283        noli             297   60  622   \n",
       "285 284 284        BigPoppak        298  154  622   \n",
       "286 285 285        cutefatboy       299  171  621   \n",
       "287 286 286        ACE              300  117  620   \n",
       "288 287 287        GenG gMd         301   71  619   \n",
       "289 288 288        bork             302  138  619   \n",
       "290 289 289        smallest borther 303   73  618   \n",
       "291 290 290        BERE             304   70  617   \n",
       "292 291 291        Nite             305   48  617   \n",
       "293 292 292        k0rean           306  241  617   \n",
       "294 293 293        furbsa           307  161  617   \n",
       "295 294 294        bew              308  133  617   \n",
       "296 295 295        Apoth            309   57  616   \n",
       "297 296 296        DZ ScrewFace     310   91  616   \n",
       "298 297 297        Drink Water      311  163  616   \n",
       "299 298 298        WiLD             312   86  615   \n",
       "300 299 299        4fun player      313  145  615   \n",
       "    link                                             \n",
       "1   /valorant/profile/riot/TSM%20FTX%20WARDELL%238266\n",
       "2   /valorant/profile/riot/SoaR%20Cryo%23Sadge       \n",
       "3   /valorant/profile/riot/TSM%20FTX%20bang%230000   \n",
       "4   /valorant/profile/riot/SoaR%20zander%23swagy     \n",
       "5   /valorant/profile/riot/100T%20Asuna%231111       \n",
       "6   /valorant/profile/riot/COL%20brawk%23420         \n",
       "7   /valorant/profile/riot/GUARD%20JonahP%23ttv      \n",
       "8   /valorant/profile/riot/T1%20JAWGEMO%23MOR        \n",
       "9   /valorant/profile/riot/T1%20curry%230000         \n",
       "10  /valorant/profile/riot/SEN%20sinatraa%23idc      \n",
       "11  /valorant/profile/riot/NRG%20hazed%23NRG         \n",
       "12  /valorant/profile/riot/SEN%20SicK%23xDDDD        \n",
       "13  /valorant/profile/riot/Lear%23anna               \n",
       "14  /valorant/profile/riot/NRG%20s0m%23NRG           \n",
       "15  /valorant/profile/riot/zt0L%23TTV                \n",
       "16  /valorant/profile/riot/NRG%20tex%23x1mob         \n",
       "17  /valorant/profile/riot/GUARD%20valyn%23000       \n",
       "18  /valorant/profile/riot/V1%20Zellsis%231240       \n",
       "19  /valorant/profile/riot/JASONR24%239498           \n",
       "20  /valorant/profile/riot/bearkun%23lily            \n",
       "21  /valorant/profile/riot/two%20tone%2342p          \n",
       "22  /valorant/profile/riot/XSET%20BcJ%235FT2         \n",
       "23  /valorant/profile/riot/NRG%20ANDROID%23NRG       \n",
       "24  /valorant/profile/riot/nillyaz%23sosa            \n",
       "25  /valorant/profile/riot/GHOST%20koalanoob%23audry \n",
       "26  /valorant/profile/riot/OXG%20Reduxx%23sara       \n",
       "27  /valorant/profile/riot/Habib%231234              \n",
       "28  /valorant/profile/riot/geeza%23POG               \n",
       "29  /valorant/profile/riot/NV%20Victor%23777         \n",
       "30  /valorant/profile/riot/BM%20Light%23Sadge        \n",
       "... ...                                              \n",
       "271 /valorant/profile/riot/Bxdied%23Bod              \n",
       "272 /valorant/profile/riot/EG%20BRANTED%23EVIL       \n",
       "273 /valorant/profile/riot/snxper%23OTF              \n",
       "274 /valorant/profile/riot/bouphapete%23NA1          \n",
       "275 /valorant/profile/riot/BigBootyJudy%23Here       \n",
       "276 /valorant/profile/riot/AKREW%20Paincakes%231738  \n",
       "277 /valorant/profile/riot/Shadow%235152             \n",
       "278 /valorant/profile/riot/HighFlip%23Flip           \n",
       "279 /valorant/profile/riot/Jawmez%231337             \n",
       "280 /valorant/profile/riot/HIMACOPTER%23ZZZ          \n",
       "281 /valorant/profile/riot/Able%20chicago%23007      \n",
       "282 /valorant/profile/riot/HaanzeR%23manda           \n",
       "283 /valorant/profile/riot/Nara%23604                \n",
       "284 /valorant/profile/riot/noli%23liinz              \n",
       "285 /valorant/profile/riot/BigPoppak%23dznut         \n",
       "286 /valorant/profile/riot/cutefatboy%23frick        \n",
       "287 /valorant/profile/riot/ACE%233131                \n",
       "288 /valorant/profile/riot/GenG%20gMd%231337         \n",
       "289 /valorant/profile/riot/bork%23QwQ                \n",
       "290 /valorant/profile/riot/smallest%20borther%23burgr\n",
       "291 /valorant/profile/riot/BERE%23tiff               \n",
       "292 /valorant/profile/riot/Nite%23King               \n",
       "293 /valorant/profile/riot/k0rean%23JETT             \n",
       "294 /valorant/profile/riot/furbsa%23wnl              \n",
       "295 /valorant/profile/riot/bew%23666                 \n",
       "296 /valorant/profile/riot/Apoth%23DOG               \n",
       "297 /valorant/profile/riot/DZ%20ScrewFace%23MEOW     \n",
       "298 /valorant/profile/riot/Drink%20Water%235252      \n",
       "299 /valorant/profile/riot/WiLD%23YAO                \n",
       "300 /valorant/profile/riot/4fun%20player%23bear      \n",
       "    Urls                                                               \n",
       "1   https://tracker.gg/valorant/profile/riot/TSM%20FTX%20WARDELL%238266\n",
       "2   https://tracker.gg/valorant/profile/riot/SoaR%20Cryo%23Sadge       \n",
       "3   https://tracker.gg/valorant/profile/riot/TSM%20FTX%20bang%230000   \n",
       "4   https://tracker.gg/valorant/profile/riot/SoaR%20zander%23swagy     \n",
       "5   https://tracker.gg/valorant/profile/riot/100T%20Asuna%231111       \n",
       "6   https://tracker.gg/valorant/profile/riot/COL%20brawk%23420         \n",
       "7   https://tracker.gg/valorant/profile/riot/GUARD%20JonahP%23ttv      \n",
       "8   https://tracker.gg/valorant/profile/riot/T1%20JAWGEMO%23MOR        \n",
       "9   https://tracker.gg/valorant/profile/riot/T1%20curry%230000         \n",
       "10  https://tracker.gg/valorant/profile/riot/SEN%20sinatraa%23idc      \n",
       "11  https://tracker.gg/valorant/profile/riot/NRG%20hazed%23NRG         \n",
       "12  https://tracker.gg/valorant/profile/riot/SEN%20SicK%23xDDDD        \n",
       "13  https://tracker.gg/valorant/profile/riot/Lear%23anna               \n",
       "14  https://tracker.gg/valorant/profile/riot/NRG%20s0m%23NRG           \n",
       "15  https://tracker.gg/valorant/profile/riot/zt0L%23TTV                \n",
       "16  https://tracker.gg/valorant/profile/riot/NRG%20tex%23x1mob         \n",
       "17  https://tracker.gg/valorant/profile/riot/GUARD%20valyn%23000       \n",
       "18  https://tracker.gg/valorant/profile/riot/V1%20Zellsis%231240       \n",
       "19  https://tracker.gg/valorant/profile/riot/JASONR24%239498           \n",
       "20  https://tracker.gg/valorant/profile/riot/bearkun%23lily            \n",
       "21  https://tracker.gg/valorant/profile/riot/two%20tone%2342p          \n",
       "22  https://tracker.gg/valorant/profile/riot/XSET%20BcJ%235FT2         \n",
       "23  https://tracker.gg/valorant/profile/riot/NRG%20ANDROID%23NRG       \n",
       "24  https://tracker.gg/valorant/profile/riot/nillyaz%23sosa            \n",
       "25  https://tracker.gg/valorant/profile/riot/GHOST%20koalanoob%23audry \n",
       "26  https://tracker.gg/valorant/profile/riot/OXG%20Reduxx%23sara       \n",
       "27  https://tracker.gg/valorant/profile/riot/Habib%231234              \n",
       "28  https://tracker.gg/valorant/profile/riot/geeza%23POG               \n",
       "29  https://tracker.gg/valorant/profile/riot/NV%20Victor%23777         \n",
       "30  https://tracker.gg/valorant/profile/riot/BM%20Light%23Sadge        \n",
       "... ...                                                                \n",
       "271 https://tracker.gg/valorant/profile/riot/Bxdied%23Bod              \n",
       "272 https://tracker.gg/valorant/profile/riot/EG%20BRANTED%23EVIL       \n",
       "273 https://tracker.gg/valorant/profile/riot/snxper%23OTF              \n",
       "274 https://tracker.gg/valorant/profile/riot/bouphapete%23NA1          \n",
       "275 https://tracker.gg/valorant/profile/riot/BigBootyJudy%23Here       \n",
       "276 https://tracker.gg/valorant/profile/riot/AKREW%20Paincakes%231738  \n",
       "277 https://tracker.gg/valorant/profile/riot/Shadow%235152             \n",
       "278 https://tracker.gg/valorant/profile/riot/HighFlip%23Flip           \n",
       "279 https://tracker.gg/valorant/profile/riot/Jawmez%231337             \n",
       "280 https://tracker.gg/valorant/profile/riot/HIMACOPTER%23ZZZ          \n",
       "281 https://tracker.gg/valorant/profile/riot/Able%20chicago%23007      \n",
       "282 https://tracker.gg/valorant/profile/riot/HaanzeR%23manda           \n",
       "283 https://tracker.gg/valorant/profile/riot/Nara%23604                \n",
       "284 https://tracker.gg/valorant/profile/riot/noli%23liinz              \n",
       "285 https://tracker.gg/valorant/profile/riot/BigPoppak%23dznut         \n",
       "286 https://tracker.gg/valorant/profile/riot/cutefatboy%23frick        \n",
       "287 https://tracker.gg/valorant/profile/riot/ACE%233131                \n",
       "288 https://tracker.gg/valorant/profile/riot/GenG%20gMd%231337         \n",
       "289 https://tracker.gg/valorant/profile/riot/bork%23QwQ                \n",
       "290 https://tracker.gg/valorant/profile/riot/smallest%20borther%23burgr\n",
       "291 https://tracker.gg/valorant/profile/riot/BERE%23tiff               \n",
       "292 https://tracker.gg/valorant/profile/riot/Nite%23King               \n",
       "293 https://tracker.gg/valorant/profile/riot/k0rean%23JETT             \n",
       "294 https://tracker.gg/valorant/profile/riot/furbsa%23wnl              \n",
       "295 https://tracker.gg/valorant/profile/riot/bew%23666                 \n",
       "296 https://tracker.gg/valorant/profile/riot/Apoth%23DOG               \n",
       "297 https://tracker.gg/valorant/profile/riot/DZ%20ScrewFace%23MEOW     \n",
       "298 https://tracker.gg/valorant/profile/riot/Drink%20Water%235252      \n",
       "299 https://tracker.gg/valorant/profile/riot/WiLD%23YAO                \n",
       "300 https://tracker.gg/valorant/profile/riot/4fun%20player%23bear      \n",
       "    Damaged.rounds killToDeath.ratio headshot.. win.. rating.wins\n",
       "1   171.2          1.44              0.23       0.57   9.820312  \n",
       "2   172.4          1.32              0.29       0.66   8.935252  \n",
       "3   156.5          1.17              0.39       0.54   7.886667  \n",
       "4   151.1          1.24              0.28       0.67   8.451128  \n",
       "5   167.3          1.19              0.26       0.58  10.090090  \n",
       "6   148.3          1.01              0.27       0.50  12.602273  \n",
       "7   160.1          1.18              0.29       0.63   7.678322  \n",
       "8   161.2          1.13              0.24       0.54   7.894737  \n",
       "9   158.6          1.20              0.28       0.56   7.323944  \n",
       "10  163.8          1.13              0.18       0.56   9.855769  \n",
       "11  139.4          1.07              0.30       0.56   7.689394  \n",
       "12  180.9          1.34              0.27       0.60   8.425000  \n",
       "13  147.7          1.12              0.27       0.56  10.412371  \n",
       "14  160.4          1.21              0.31       0.54   4.960396  \n",
       "15  145.0          1.13              0.20       0.54   8.308333  \n",
       "16  162.7          1.20              0.34       0.60   8.875000  \n",
       "17    0.0          1.51              0.00       0.30   9.224299  \n",
       "18  151.6          1.14              0.23       0.58  13.732394  \n",
       "19  142.2          1.03              0.24       0.51   3.899598  \n",
       "20  137.1          1.00              0.20       0.45   5.431818  \n",
       "21  154.3          1.13              0.25       0.53  12.037975  \n",
       "22  154.5          1.26              0.21       0.52   7.859504  \n",
       "23  157.7          1.31              0.34       0.59   8.200000  \n",
       "24  131.9          0.97              0.27       0.49  10.894118  \n",
       "25  167.7          1.24              0.27       0.50   5.640244  \n",
       "26  172.7          1.21              0.28       0.55   8.951456  \n",
       "27  151.0          1.10              0.31       0.56   9.484536  \n",
       "28  154.7          1.12              0.36       0.45   6.086093  \n",
       "29  159.9          1.07              0.29       0.51  14.015385  \n",
       "30  150.8          1.16              0.29       0.52   7.818966  \n",
       "... ...            ...               ...        ...   ...        \n",
       "271 245.9          1.39              0.33       0.00   6.879121  \n",
       "272 127.1          0.92              0.31       0.51   6.793478  \n",
       "273 150.5          1.09              0.34       0.53   5.482456  \n",
       "274 149.3          1.05              0.24       0.46   6.944444  \n",
       "275 164.1          1.34              0.29       0.65   7.812500  \n",
       "276 153.6          1.10              0.28       0.45   3.974522  \n",
       "277 126.1          0.96              0.27       0.50   5.724771  \n",
       "278   0.0          1.81              0.00       0.57   6.857143  \n",
       "279 153.9          1.16              0.32       0.43   3.781818  \n",
       "280 134.7          0.93              0.21       0.44  12.979167  \n",
       "281 156.0          1.12              0.29       0.46  10.213115  \n",
       "282 140.1          0.96              0.25       0.49   3.753012  \n",
       "283 133.0          1.00              0.27       0.52   9.161765  \n",
       "284 154.5          1.17              0.30       0.53  10.366667  \n",
       "285 151.3          1.03              0.29       0.49   4.038961  \n",
       "286 141.3          1.05              0.31       0.48   3.631579  \n",
       "287 144.3          1.01              0.25       0.49   5.299145  \n",
       "288 153.3          1.08              0.29       0.49   8.718310  \n",
       "289 142.1          1.10              0.25       0.52   4.485507  \n",
       "290 154.9          1.11              0.24       0.56   8.465753  \n",
       "291 139.9          1.01              0.34       0.42   8.814286  \n",
       "292 143.7          1.05              0.20       0.46  12.854167  \n",
       "293 144.7          1.03              0.16       0.47   2.560166  \n",
       "294 156.3          1.11              0.34       0.49   3.832298  \n",
       "295 156.8          1.26              0.30       0.70   4.639098  \n",
       "296 149.2          1.13              0.34       0.55  10.807018  \n",
       "297 145.9          1.03              0.23       0.47   6.769231  \n",
       "298 144.0          1.09              0.26       0.52   3.779141  \n",
       "299 136.6          1.00              0.26       0.44   7.151163  \n",
       "300 142.5          0.96              0.19       0.47   4.241379  "
      ]
     },
     "metadata": {},
     "output_type": "display_data"
    }
   ],
   "source": [
    "setwd('C:/Users/owenl/Documents/GitHub/RL/R')                                                #set the appropriate directory for R\n",
    "read.csv('/Users/owenl/Documents/GitHub/RL/rankednewvar.csv')       #read the csv file that I made using python"
   ]
  },
  {
   "cell_type": "code",
   "execution_count": 3,
   "id": "86d160a6",
   "metadata": {},
   "outputs": [],
   "source": [
    "ranks <- read.csv('/Users/owenl/Documents/GitHub/RL/rankednewvar.csv')      #name the dataframe, to ranks"
   ]
  },
  {
   "cell_type": "markdown",
   "id": "b348164c",
   "metadata": {},
   "source": [
    "## Experimental regressions I ran "
   ]
  },
  {
   "cell_type": "markdown",
   "id": "3bebacd9",
   "metadata": {},
   "source": [
    "### First, I ran a regression model on ratings with respect to wins and rank. The regression showed that two of the intercept showed statistical significance with a good R-squared indicating a relatively good fit.  "
   ]
  },
  {
   "cell_type": "code",
   "execution_count": 4,
   "id": "a48efdfa",
   "metadata": {},
   "outputs": [
    {
     "data": {
      "text/plain": [
       "\n",
       "Call:\n",
       "lm(formula = rating ~ wins + rank, data = ranks)\n",
       "\n",
       "Residuals:\n",
       "   Min     1Q Median     3Q    Max \n",
       "-40.26 -28.78 -15.39  13.77 317.07 \n",
       "\n",
       "Coefficients:\n",
       "             Estimate Std. Error t value Pr(>|t|)    \n",
       "(Intercept) 933.75620    8.62772 108.227   <2e-16 ***\n",
       "wins          0.05771    0.05456   1.058    0.291    \n",
       "rank         -1.20907    0.03038 -39.795   <2e-16 ***\n",
       "---\n",
       "Signif. codes:  0 '***' 0.001 '**' 0.01 '*' 0.05 '.' 0.1 ' ' 1\n",
       "\n",
       "Residual standard error: 47.17 on 297 degrees of freedom\n",
       "Multiple R-squared:  0.8461,\tAdjusted R-squared:  0.8451 \n",
       "F-statistic: 816.5 on 2 and 297 DF,  p-value: < 2.2e-16\n"
      ]
     },
     "metadata": {},
     "output_type": "display_data"
    }
   ],
   "source": [
    "ols <- lm(rating ~ wins + rank , data = ranks)            #run a linear regression model with respect to the columns rating, wins and rank, where the data set is defined above as ranks. \n",
    "summary(ols)        #use the code to show the summary of the regression"
   ]
  },
  {
   "cell_type": "markdown",
   "id": "14b4cb00",
   "metadata": {},
   "source": [
    "### Now to run a regression on wether Kill death ratio and average damage per round have any effect on rating. Assuming higher ranked players will have higher adr and Kill death ratio since they are in general, better. "
   ]
  },
  {
   "cell_type": "code",
   "execution_count": 5,
   "id": "9b7d7a35",
   "metadata": {},
   "outputs": [
    {
     "data": {
      "text/plain": [
       "\n",
       "Call:\n",
       "lm(formula = rating ~ Damaged.rounds + killToDeath.ratio, data = ranks)\n",
       "\n",
       "Residuals:\n",
       "    Min      1Q  Median      3Q     Max \n",
       "-234.00  -91.77  -26.34   62.95  439.00 \n",
       "\n",
       "Coefficients:\n",
       "                  Estimate Std. Error t value Pr(>|t|)    \n",
       "(Intercept)       516.2521    52.3338   9.865  < 2e-16 ***\n",
       "Damaged.rounds      0.6494     0.1711   3.795 0.000179 ***\n",
       "killToDeath.ratio 132.4138    33.0786   4.003 7.91e-05 ***\n",
       "---\n",
       "Signif. codes:  0 '***' 0.001 '**' 0.01 '*' 0.05 '.' 0.1 ' ' 1\n",
       "\n",
       "Residual standard error: 116.2 on 297 degrees of freedom\n",
       "Multiple R-squared:  0.06562,\tAdjusted R-squared:  0.05933 \n",
       "F-statistic: 10.43 on 2 and 297 DF,  p-value: 4.195e-05\n"
      ]
     },
     "metadata": {},
     "output_type": "display_data"
    }
   ],
   "source": [
    "ols2 <- lm(rating ~ Damaged.rounds + killToDeath.ratio, data = ranks)            #run a linear regression model with respect to the columns adr, kd and ratings, where the data set is defined above as ranks. \n",
    "summary(ols2)        #use the code to show the summary of the regression"
   ]
  },
  {
   "cell_type": "markdown",
   "id": "0663ab40",
   "metadata": {},
   "source": [
    "## Robust regression: "
   ]
  },
  {
   "cell_type": "code",
   "execution_count": 6,
   "id": "43388d2b",
   "metadata": {},
   "outputs": [
    {
     "name": "stderr",
     "output_type": "stream",
     "text": [
      "Warning message:\n",
      "\"package 'estimatr' was built under R version 3.6.3\""
     ]
    }
   ],
   "source": [
    "library(estimatr)"
   ]
  },
  {
   "cell_type": "code",
   "execution_count": 7,
   "id": "3ff89356",
   "metadata": {},
   "outputs": [
    {
     "data": {
      "text/plain": [
       "\n",
       "Call:\n",
       "lm_robust(formula = rating.wins ~ rating + wins, data = ranks)\n",
       "\n",
       "Standard error type:  HC2 \n",
       "\n",
       "Coefficients:\n",
       "             Estimate Std. Error t value  Pr(>|t|) CI Lower  CI Upper  DF\n",
       "(Intercept) 10.030220  0.6202450  16.171 1.254e-42  8.80959 11.250852 297\n",
       "rating       0.006064  0.0006725   9.017 2.451e-17  0.00474  0.007387 297\n",
       "wins        -0.058675  0.0035009 -16.760 7.746e-45 -0.06556 -0.051785 297\n",
       "\n",
       "Multiple R-squared:  0.7522 ,\tAdjusted R-squared:  0.7505 \n",
       "F-statistic: 158.9 on 2 and 297 DF,  p-value: < 2.2e-16"
      ]
     },
     "metadata": {},
     "output_type": "display_data"
    }
   ],
   "source": [
    "ols4_robust = lm_robust(rating.wins ~ rating + wins, data = ranks) #define the ols robust command same as above, with respect to ratingperwin and rating and wins, where data is the ranks dataframe\n",
    "summary(ols4_robust)             #command to show the summary"
   ]
  },
  {
   "cell_type": "markdown",
   "id": "37c14d8d",
   "metadata": {},
   "source": [
    "# Regression Analysis:"
   ]
  },
  {
   "cell_type": "markdown",
   "id": "f20233d4",
   "metadata": {},
   "source": [
    "## To answer my question of player efficiency in terms of gaining rank rating, I ran a regression model on the new variable I created, rating gained per win with respect to ranked rating and wins. The regression model showed all three variable having statistical significance. Moreover, for every increase in rating/win, the rating goes up by 0.006. The number is small yet indicates a slight positive correlation. The higher the player is on the leaderboard may correlated to being more efficient at winning. "
   ]
  },
  {
   "cell_type": "code",
   "execution_count": 8,
   "id": "b10d36b1",
   "metadata": {},
   "outputs": [
    {
     "data": {
      "text/plain": [
       "\n",
       "Call:\n",
       "lm(formula = rating.wins ~ rating + wins, data = ranks)\n",
       "\n",
       "Residuals:\n",
       "    Min      1Q  Median      3Q     Max \n",
       "-1.6937 -1.1144 -0.6152  0.4216  8.3443 \n",
       "\n",
       "Coefficients:\n",
       "              Estimate Std. Error t value Pr(>|t|)    \n",
       "(Intercept) 10.0302198  0.6330463  15.844  < 2e-16 ***\n",
       "rating       0.0060638  0.0008275   7.328 2.22e-12 ***\n",
       "wins        -0.0586750  0.0019614 -29.915  < 2e-16 ***\n",
       "---\n",
       "Signif. codes:  0 '***' 0.001 '**' 0.01 '*' 0.05 '.' 0.1 ' ' 1\n",
       "\n",
       "Residual standard error: 1.693 on 297 degrees of freedom\n",
       "Multiple R-squared:  0.7522,\tAdjusted R-squared:  0.7505 \n",
       "F-statistic: 450.8 on 2 and 297 DF,  p-value: < 2.2e-16\n"
      ]
     },
     "metadata": {},
     "output_type": "display_data"
    }
   ],
   "source": [
    "ols4 <- lm(rating.wins ~ rating + wins, data = ranks) #define this as ols4, run the regression again like above except one column as the variable that was calculated rating/wins\n",
    "summary(ols4)                     #show the summary of the regression "
   ]
  },
  {
   "cell_type": "markdown",
   "id": "d2ffeeef",
   "metadata": {},
   "source": [
    "####  The above is my preferred regression model. Below is an explanation of why the above preferred regression model is better: "
   ]
  },
  {
   "cell_type": "markdown",
   "id": "04fdfb89",
   "metadata": {},
   "source": [
    "#### Although both the Adjusted and multiple R-squared is better fitted on the 1st regressions, it does not achieve complete statistic significant. The 1st regression model are not significant in the wins category, indicated by the lack of signif codes under the wins coefficient. Hinting that there is little to no correlation between how much damage a player inflicts or how high his kill death ratio is in relations to his ranked rating, disproving my initial hypothesis that higher ranked players should have better stats. Lastly, my preferred regression achieves significant on both rating and wins. Moreover, the negative coefficient on wins, while holding rating constant, indicates a more holistic picture in terms of rank rating gained: as wins increase, ranked rating gained per win decreases, indicating there is a difficult time/a decrease in terms of efficiency in gaining rating. This is not apparent in the first three regressions."
   ]
  },
  {
   "cell_type": "markdown",
   "id": "52a95059",
   "metadata": {},
   "source": [
    "# Running regression model to answer my second question of whether or not player's individual stats have an impact on wins and ranked ratings."
   ]
  },
  {
   "cell_type": "markdown",
   "id": "1dd5794c",
   "metadata": {},
   "source": [
    "# First I see if the individual stats have an impact on total wins "
   ]
  },
  {
   "cell_type": "markdown",
   "id": "1d0e7bea",
   "metadata": {},
   "source": [
    "#### Regression of wins with respect to damage per round and kill death ratio "
   ]
  },
  {
   "cell_type": "code",
   "execution_count": 9,
   "id": "614c6070",
   "metadata": {},
   "outputs": [
    {
     "data": {
      "text/plain": [
       "\n",
       "Call:\n",
       "lm(formula = wins ~ Damaged.rounds + killToDeath.ratio, data = ranks)\n",
       "\n",
       "Residuals:\n",
       "   Min     1Q Median     3Q    Max \n",
       "-79.94 -34.23 -11.68  23.46 197.40 \n",
       "\n",
       "Coefficients:\n",
       "                  Estimate Std. Error t value Pr(>|t|)    \n",
       "(Intercept)       94.71382   22.47652   4.214 3.33e-05 ***\n",
       "Damaged.rounds     0.18154    0.07349   2.470   0.0141 *  \n",
       "killToDeath.ratio -7.78439   14.20673  -0.548   0.5841    \n",
       "---\n",
       "Signif. codes:  0 '***' 0.001 '**' 0.01 '*' 0.05 '.' 0.1 ' ' 1\n",
       "\n",
       "Residual standard error: 49.91 on 297 degrees of freedom\n",
       "Multiple R-squared:  0.03166,\tAdjusted R-squared:  0.02514 \n",
       "F-statistic: 4.855 on 2 and 297 DF,  p-value: 0.00842\n"
      ]
     },
     "metadata": {},
     "output_type": "display_data"
    }
   ],
   "source": [
    "ols5 <- lm(wins ~ Damaged.rounds + killToDeath.ratio, data = ranks) #define this as ols5, run the regression again like above setting the variables as adr and kd\n",
    "summary(ols5)                     #show the summary of the regression "
   ]
  },
  {
   "cell_type": "markdown",
   "id": "98397e45",
   "metadata": {},
   "source": [
    "#### Regression of wins with respect to headshot and kill death ratio \n"
   ]
  },
  {
   "cell_type": "code",
   "execution_count": 10,
   "id": "a8c1792d",
   "metadata": {},
   "outputs": [
    {
     "data": {
      "text/plain": [
       "\n",
       "Call:\n",
       "lm(formula = wins ~ headshot.. + killToDeath.ratio, data = ranks)\n",
       "\n",
       "Residuals:\n",
       "   Min     1Q Median     3Q    Max \n",
       "-81.39 -32.90 -10.84  22.71 189.61 \n",
       "\n",
       "Coefficients:\n",
       "                  Estimate Std. Error t value Pr(>|t|)    \n",
       "(Intercept)          93.00      21.26   4.375 1.69e-05 ***\n",
       "headshot..          100.72      35.60   2.829  0.00498 ** \n",
       "killToDeath.ratio    -6.30      14.03  -0.449  0.65381    \n",
       "---\n",
       "Signif. codes:  0 '***' 0.001 '**' 0.01 '*' 0.05 '.' 0.1 ' ' 1\n",
       "\n",
       "Residual standard error: 49.76 on 297 degrees of freedom\n",
       "Multiple R-squared:  0.0377,\tAdjusted R-squared:  0.03122 \n",
       "F-statistic: 5.818 on 2 and 297 DF,  p-value: 0.003323\n"
      ]
     },
     "metadata": {},
     "output_type": "display_data"
    }
   ],
   "source": [
    "ols6 <- lm(wins ~ headshot.. + killToDeath.ratio, data = ranks) #define this as ols5, run the regression again like above setting the variables as hs and kd\n",
    "summary(ols6)                     #show the summary of the regression "
   ]
  },
  {
   "cell_type": "markdown",
   "id": "2e1854ce",
   "metadata": {},
   "source": [
    "# Next, I ran regression models to see if individual stats impact the amount of ratings gained per win"
   ]
  },
  {
   "cell_type": "markdown",
   "id": "21e4d0c9",
   "metadata": {},
   "source": [
    "### These regressions were made to see if the more \"efficient\" players have higher individual stats vice versa:  "
   ]
  },
  {
   "cell_type": "markdown",
   "id": "9607b105",
   "metadata": {},
   "source": [
    "#### Regression of rating gained per win with respect to damage done per round and kill death ratio "
   ]
  },
  {
   "cell_type": "code",
   "execution_count": 11,
   "id": "272badd0",
   "metadata": {},
   "outputs": [
    {
     "data": {
      "text/plain": [
       "\n",
       "Call:\n",
       "lm(formula = rating.wins ~ Damaged.rounds + killToDeath.ratio, \n",
       "    data = ranks)\n",
       "\n",
       "Residuals:\n",
       "    Min      1Q  Median      3Q     Max \n",
       "-6.7392 -2.4482 -0.3421  1.7077 12.5026 \n",
       "\n",
       "Coefficients:\n",
       "                   Estimate Std. Error t value Pr(>|t|)    \n",
       "(Intercept)        6.709350   1.493194   4.493 1.01e-05 ***\n",
       "Damaged.rounds    -0.008156   0.004882  -1.671   0.0959 .  \n",
       "killToDeath.ratio  2.230021   0.943803   2.363   0.0188 *  \n",
       "---\n",
       "Signif. codes:  0 '***' 0.001 '**' 0.01 '*' 0.05 '.' 0.1 ' ' 1\n",
       "\n",
       "Residual standard error: 3.316 on 297 degrees of freedom\n",
       "Multiple R-squared:  0.04882,\tAdjusted R-squared:  0.04242 \n",
       "F-statistic: 7.622 on 2 and 297 DF,  p-value: 0.0005913\n"
      ]
     },
     "metadata": {},
     "output_type": "display_data"
    }
   ],
   "source": [
    "ols7 <- lm(rating.wins ~ Damaged.rounds + killToDeath.ratio, data = ranks) #define this as ols7, run the regression again like above \n",
    "summary(ols7)                     #show the summary of the regression "
   ]
  },
  {
   "cell_type": "markdown",
   "id": "f322e8ac",
   "metadata": {},
   "source": [
    "#### Regression of rating gained per win with respect to Headshot and kill death ratio "
   ]
  },
  {
   "cell_type": "code",
   "execution_count": 12,
   "id": "28c5fa6d",
   "metadata": {},
   "outputs": [
    {
     "data": {
      "text/plain": [
       "\n",
       "Call:\n",
       "lm(formula = rating.wins ~ headshot.. + killToDeath.ratio, data = ranks)\n",
       "\n",
       "Residuals:\n",
       "    Min      1Q  Median      3Q     Max \n",
       "-6.7770 -2.4536 -0.2267  1.6207 12.5872 \n",
       "\n",
       "Coefficients:\n",
       "                  Estimate Std. Error t value Pr(>|t|)    \n",
       "(Intercept)          7.226      1.410   5.123 5.42e-07 ***\n",
       "headshot..          -5.524      2.362  -2.339   0.0200 *  \n",
       "killToDeath.ratio    1.988      0.931   2.135   0.0335 *  \n",
       "---\n",
       "Signif. codes:  0 '***' 0.001 '**' 0.01 '*' 0.05 '.' 0.1 ' ' 1\n",
       "\n",
       "Residual standard error: 3.301 on 297 degrees of freedom\n",
       "Multiple R-squared:  0.05725,\tAdjusted R-squared:  0.0509 \n",
       "F-statistic: 9.018 on 2 and 297 DF,  p-value: 0.0001576\n"
      ]
     },
     "metadata": {},
     "output_type": "display_data"
    }
   ],
   "source": [
    "ols8 <- lm(rating.wins ~ headshot.. + killToDeath.ratio, data = ranks) #define this as ols8, run the regression again like above \n",
    "summary(ols8)                     #show the summary of the regression "
   ]
  },
  {
   "cell_type": "markdown",
   "id": "aece219e",
   "metadata": {},
   "source": [
    "#### Regression of rating gained per win with respect to damage done per round and headshot"
   ]
  },
  {
   "cell_type": "code",
   "execution_count": 13,
   "id": "528c3c0c",
   "metadata": {},
   "outputs": [
    {
     "data": {
      "text/plain": [
       "\n",
       "Call:\n",
       "lm(formula = rating.wins ~ headshot.. + Damaged.rounds, data = ranks)\n",
       "\n",
       "Residuals:\n",
       "    Min      1Q  Median      3Q     Max \n",
       "-6.2128 -2.4381 -0.2479  1.6057 12.5666 \n",
       "\n",
       "Coefficients:\n",
       "                 Estimate Std. Error t value Pr(>|t|)    \n",
       "(Intercept)     9.9898075  0.6168353  16.195   <2e-16 ***\n",
       "headshot..     -7.9058693  4.1248252  -1.917   0.0562 .  \n",
       "Damaged.rounds  0.0003325  0.0084114   0.040   0.9685    \n",
       "---\n",
       "Signif. codes:  0 '***' 0.001 '**' 0.01 '*' 0.05 '.' 0.1 ' ' 1\n",
       "\n",
       "Residual standard error: 3.326 on 297 degrees of freedom\n",
       "Multiple R-squared:  0.04278,\tAdjusted R-squared:  0.03634 \n",
       "F-statistic: 6.637 on 2 and 297 DF,  p-value: 0.001514\n"
      ]
     },
     "metadata": {},
     "output_type": "display_data"
    }
   ],
   "source": [
    "ols9 <- lm(rating.wins ~ headshot.. + Damaged.rounds, data = ranks) #define this as ols9, run the regression again like above \n",
    "summary(ols9)                     #show the summary of the regression "
   ]
  },
  {
   "cell_type": "markdown",
   "id": "ff9aeb6c",
   "metadata": {},
   "source": [
    "# Using Stargazer to format the regression:"
   ]
  },
  {
   "cell_type": "markdown",
   "id": "1e476950",
   "metadata": {},
   "source": [
    "### Formating regression 5 and 6, total wins with respect to individual stats: "
   ]
  },
  {
   "cell_type": "code",
   "execution_count": 24,
   "id": "e17401d1",
   "metadata": {},
   "outputs": [
    {
     "name": "stdout",
     "output_type": "stream",
     "text": [
      "\n",
      "<table style=\"text-align:center\"><caption><strong>Regression of individual stats and total wins</strong></caption>\n",
      "<tr><td colspan=\"3\" style=\"border-bottom: 1px solid black\"></td></tr><tr><td style=\"text-align:left\"></td><td colspan=\"2\">Player stats</td></tr>\n",
      "<tr><td></td><td colspan=\"2\" style=\"border-bottom: 1px solid black\"></td></tr>\n",
      "<tr><td style=\"text-align:left\"></td><td colspan=\"2\">wins</td></tr>\n",
      "<tr><td style=\"text-align:left\"></td><td>OLS5</td><td>OLS6</td></tr>\n",
      "<tr><td style=\"text-align:left\"></td><td>(1)</td><td>(2)</td></tr>\n",
      "<tr><td colspan=\"3\" style=\"border-bottom: 1px solid black\"></td></tr><tr><td style=\"text-align:left\">Damaged.rounds</td><td>0.182<sup>**</sup></td><td></td></tr>\n",
      "<tr><td style=\"text-align:left\"></td><td>(0.073)</td><td></td></tr>\n",
      "<tr><td style=\"text-align:left\"></td><td></td><td></td></tr>\n",
      "<tr><td style=\"text-align:left\">Killdeathratio</td><td></td><td>100.719<sup>***</sup></td></tr>\n",
      "<tr><td style=\"text-align:left\"></td><td></td><td>(35.597)</td></tr>\n",
      "<tr><td style=\"text-align:left\"></td><td></td><td></td></tr>\n",
      "<tr><td style=\"text-align:left\">Headshot</td><td>-7.784</td><td>-6.300</td></tr>\n",
      "<tr><td style=\"text-align:left\"></td><td>(14.207)</td><td>(14.033)</td></tr>\n",
      "<tr><td style=\"text-align:left\"></td><td></td><td></td></tr>\n",
      "<tr><td style=\"text-align:left\">Constant</td><td>94.714<sup>***</sup></td><td>92.997<sup>***</sup></td></tr>\n",
      "<tr><td style=\"text-align:left\"></td><td>(22.477)</td><td>(21.259)</td></tr>\n",
      "<tr><td style=\"text-align:left\"></td><td></td><td></td></tr>\n",
      "<tr><td colspan=\"3\" style=\"border-bottom: 1px solid black\"></td></tr><tr><td style=\"text-align:left\">Observations</td><td>300</td><td>300</td></tr>\n",
      "<tr><td style=\"text-align:left\">R<sup>2</sup></td><td>0.032</td><td>0.038</td></tr>\n",
      "<tr><td style=\"text-align:left\">Adjusted R<sup>2</sup></td><td>0.025</td><td>0.031</td></tr>\n",
      "<tr><td style=\"text-align:left\">Residual Std. Error (df = 297)</td><td>49.914</td><td>49.758</td></tr>\n",
      "<tr><td style=\"text-align:left\">F Statistic (df = 2; 297)</td><td>4.855<sup>***</sup></td><td>5.818<sup>***</sup></td></tr>\n",
      "<tr><td colspan=\"3\" style=\"border-bottom: 1px solid black\"></td></tr><tr><td style=\"text-align:left\"><em>Note:</em></td><td colspan=\"2\" style=\"text-align:right\"><sup>*</sup>p<0.1; <sup>**</sup>p<0.05; <sup>***</sup>p<0.01</td></tr>\n",
      "</table>\n"
     ]
    }
   ],
   "source": [
    "library(stargazer)         #function used to call upon the installed package \n",
    "stargazer(ols5, ols6, type = \"html\", column.labels = c(\"OLS5\", \"OLS6\"), model.names = FALSE, #function to use stargazer with dataset from osl5 and ols6\n",
    "          dep.var.caption = \"Player stats\",   #dependent variable caption \n",
    "          title            = \"Regression of individual stats and total wins\", #title of the regression table \n",
    "          covariate.labels = c(\"Damaged.rounds\", \"Killdeathratio\", \"Headshot\"), #code for the codepedent variable label, here is all the individual stats\n",
    "          dep.var.labels   = \"wins\", #code for the depedent variable label, here is the number of wins \n",
    "          out = \"statsandwins.html\") #code to output the html file saved under the path directed above with the function setwd"
   ]
  },
  {
   "cell_type": "markdown",
   "id": "86963a62",
   "metadata": {},
   "source": [
    "### Formating regression 7,8 and 9, ratings gained per win with respect to individual stats: "
   ]
  },
  {
   "cell_type": "code",
   "execution_count": 25,
   "id": "881c2b94",
   "metadata": {},
   "outputs": [
    {
     "name": "stdout",
     "output_type": "stream",
     "text": [
      "\n",
      "<table style=\"text-align:center\"><caption><strong>Regression of individual stats and ratingsgainedperwin</strong></caption>\n",
      "<tr><td colspan=\"4\" style=\"border-bottom: 1px solid black\"></td></tr><tr><td style=\"text-align:left\"></td><td colspan=\"3\">ratingsperwin</td></tr>\n",
      "<tr><td style=\"text-align:left\"></td><td>OLS7</td><td>OLS8</td><td>OLS9</td></tr>\n",
      "<tr><td style=\"text-align:left\"></td><td>(1)</td><td>(2)</td><td>(3)</td></tr>\n",
      "<tr><td colspan=\"4\" style=\"border-bottom: 1px solid black\"></td></tr><tr><td style=\"text-align:left\">Damaged.rounds</td><td>-0.008<sup>*</sup></td><td></td><td>0.0003</td></tr>\n",
      "<tr><td style=\"text-align:left\"></td><td>(0.005)</td><td></td><td>(0.008)</td></tr>\n",
      "<tr><td style=\"text-align:left\"></td><td></td><td></td><td></td></tr>\n",
      "<tr><td style=\"text-align:left\">Killdeathratio</td><td></td><td>-5.524<sup>**</sup></td><td>-7.906<sup>*</sup></td></tr>\n",
      "<tr><td style=\"text-align:left\"></td><td></td><td>(2.362)</td><td>(4.125)</td></tr>\n",
      "<tr><td style=\"text-align:left\"></td><td></td><td></td><td></td></tr>\n",
      "<tr><td style=\"text-align:left\">Headshot</td><td>2.230<sup>**</sup></td><td>1.988<sup>**</sup></td><td></td></tr>\n",
      "<tr><td style=\"text-align:left\"></td><td>(0.944)</td><td>(0.931)</td><td></td></tr>\n",
      "<tr><td style=\"text-align:left\"></td><td></td><td></td><td></td></tr>\n",
      "<tr><td style=\"text-align:left\">Constant</td><td>6.709<sup>***</sup></td><td>7.226<sup>***</sup></td><td>9.990<sup>***</sup></td></tr>\n",
      "<tr><td style=\"text-align:left\"></td><td>(1.493)</td><td>(1.410)</td><td>(0.617)</td></tr>\n",
      "<tr><td style=\"text-align:left\"></td><td></td><td></td><td></td></tr>\n",
      "<tr><td colspan=\"4\" style=\"border-bottom: 1px solid black\"></td></tr><tr><td style=\"text-align:left\">Observations</td><td>300</td><td>300</td><td>300</td></tr>\n",
      "<tr><td style=\"text-align:left\">R<sup>2</sup></td><td>0.049</td><td>0.057</td><td>0.043</td></tr>\n",
      "<tr><td style=\"text-align:left\">Adjusted R<sup>2</sup></td><td>0.042</td><td>0.051</td><td>0.036</td></tr>\n",
      "<tr><td style=\"text-align:left\">Residual Std. Error (df = 297)</td><td>3.316</td><td>3.301</td><td>3.326</td></tr>\n",
      "<tr><td style=\"text-align:left\">F Statistic (df = 2; 297)</td><td>7.622<sup>***</sup></td><td>9.018<sup>***</sup></td><td>6.637<sup>***</sup></td></tr>\n",
      "<tr><td colspan=\"4\" style=\"border-bottom: 1px solid black\"></td></tr><tr><td style=\"text-align:left\"><em>Note:</em></td><td colspan=\"3\" style=\"text-align:right\"><sup>*</sup>p<0.1; <sup>**</sup>p<0.05; <sup>***</sup>p<0.01</td></tr>\n",
      "</table>\n"
     ]
    }
   ],
   "source": [
    "library(stargazer)         #function used to call upon the installed package \n",
    "stargazer(ols7, ols8, ols9, type = \"html\", column.labels = c(\"OLS7\", \"OLS8\", \"OLS9\"), model.names = FALSE, #like above, except here it is three instead of two \n",
    "          dep.var.caption = \"\",   #the depedent variable caption\n",
    "          title            = \"Regression of individual stats and ratingsgainedperwin\", #title for the regression table \n",
    "          covariate.labels = c(\"Damaged.rounds\", \"Killdeathratio\", \"Headshot\"), #function for the labels of each of the variables \n",
    "          dep.var.labels   = \"ratingsperwin\", #code for the depedent variable label, here ratingsperwin\n",
    "          out = \"statsandratingwins.html\") #code to output the html file saved under the path directed above with the function setwd"
   ]
  }
 ],
 "metadata": {
  "kernelspec": {
   "display_name": "R",
   "language": "R",
   "name": "ir"
  },
  "language_info": {
   "codemirror_mode": "r",
   "file_extension": ".r",
   "mimetype": "text/x-r-source",
   "name": "R",
   "pygments_lexer": "r",
   "version": "3.6.1"
  }
 },
 "nbformat": 4,
 "nbformat_minor": 5
}
